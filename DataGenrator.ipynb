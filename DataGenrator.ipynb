{
  "nbformat": 4,
  "nbformat_minor": 0,
  "metadata": {
    "colab": {
      "provenance": []
    },
    "kernelspec": {
      "name": "python3",
      "display_name": "Python 3"
    },
    "language_info": {
      "name": "python"
    },
    "gpuClass": "standard"
  },
  "cells": [
    {
      "cell_type": "code",
      "execution_count": 116,
      "metadata": {
        "id": "S0CknwqkXqfb"
      },
      "outputs": [],
      "source": [
        "#Importhing the necessary libraries\n",
        "import h5py\n",
        "from sklearn.metrics.pairwise import cosine_similarity\n",
        "from operator import itemgetter\n",
        "from scipy.spatial import distance\n",
        "import numpy as np\n",
        "import torch\n",
        "import time\n",
        "from sklearn.utils import shuffle\n",
        "import random"
      ]
    },
    {
      "cell_type": "code",
      "source": [
        "#Loading the processed movies metadata \n",
        "hf = h5py.File(\"/content/drive/MyDrive/Colab Notebooks/ee541/Project/movies_data.hd5\",'r')\n",
        "keys = hf.keys()\n",
        "keys"
      ],
      "metadata": {
        "colab": {
          "base_uri": "https://localhost:8080/"
        },
        "id": "1s-dQKYaY5Mc",
        "outputId": "570680cc-d48d-4351-fdd0-d4afa4ac49bc"
      },
      "execution_count": 3,
      "outputs": [
        {
          "output_type": "execute_result",
          "data": {
            "text/plain": [
              "<KeysViewHDF5 ['id', 'metadata', 'title']>"
            ]
          },
          "metadata": {},
          "execution_count": 3
        }
      ]
    },
    {
      "cell_type": "code",
      "source": [
        "metadata = hf['metadata'][:]\n",
        "title = hf['title'][:]\n",
        "id = hf['id'][:]"
      ],
      "metadata": {
        "id": "pEwDo4-OjLe6"
      },
      "execution_count": 4,
      "outputs": []
    },
    {
      "cell_type": "code",
      "source": [
        "metadata = torch.from_numpy(metadata)"
      ],
      "metadata": {
        "id": "go1OAzIrDckb"
      },
      "execution_count": 5,
      "outputs": []
    },
    {
      "cell_type": "code",
      "source": [
        "w = np.zeros((1,409))"
      ],
      "metadata": {
        "id": "RgBTvGFksGyt"
      },
      "execution_count": 6,
      "outputs": []
    },
    {
      "cell_type": "code",
      "source": [
        "w[0][0] = 1\n",
        "w[0][1] = 1\n",
        "w[0][2] = 1\n",
        "#0.01 + 0.3 + 0.2 + 0.05 +0.01 + 0.2 + 0.2 + 0.03\n",
        "for i in range(3,103):\n",
        "  w[0][i] = 15\n",
        "for i in range(103,203):\n",
        "  w[0][i] = 6\n",
        "w[0][203] = 1\n",
        "w[0][204] = 1\n",
        "w[0][205] = 1\n",
        "for i in range(206,306):\n",
        "  w[0][i] = 3\n",
        "for i in range(306,406):\n",
        "  w[0][i] = 3\n",
        "w[0][407] = 1\n",
        "w[0][408] = 10"
      ],
      "metadata": {
        "id": "FCmZylYosW2-"
      },
      "execution_count": 7,
      "outputs": []
    },
    {
      "cell_type": "code",
      "source": [
        "w = torch.from_numpy(w)"
      ],
      "metadata": {
        "id": "nLq5w91o-C3Y"
      },
      "execution_count": 8,
      "outputs": []
    },
    {
      "cell_type": "code",
      "source": [
        "cs_matrix = np.ones((6716,6716))"
      ],
      "metadata": {
        "id": "roGJetH2zgze"
      },
      "execution_count": 17,
      "outputs": []
    },
    {
      "cell_type": "code",
      "source": [
        "#Generate Cosine Similarity matrix\n",
        "for i in range(6716):\n",
        "  movie = metadata[i].reshape((1,409))\n",
        "  for j in range(6716):\n",
        "    compare_with_movie = metadata[j].reshape((1,409))\n",
        "    if(i < j):\n",
        "      cs_matrix[i][j] = distance.cosine(movie,compare_with_movie, w)\n",
        "    else:\n",
        "      if(i!=j):\n",
        "        cs_matrix[i][j] = cs_matrix[j][i]\n"
      ],
      "metadata": {
        "id": "4q5HzfIXzrMb"
      },
      "execution_count": 30,
      "outputs": []
    },
    {
      "cell_type": "code",
      "source": [
        "#storing the similarity matrix\n",
        "with h5py.File(\"cosine_similarities.hd5\", 'w') as hf: \n",
        "  hf.create_dataset('cosine_distance', data=cs_matrix)"
      ],
      "metadata": {
        "id": "qqEGcTgQLRgx"
      },
      "execution_count": 57,
      "outputs": []
    },
    {
      "cell_type": "code",
      "source": [
        "#Initialising data vectors\n",
        "X_DATA = np.zeros((500000,1227))\n",
        "Y_LABEL = np.zeros((500000,409))\n",
        "COMBINED_ID = np.zeros((500000,3))"
      ],
      "metadata": {
        "id": "RYhSEeh7Nre6"
      },
      "execution_count": 112,
      "outputs": []
    },
    {
      "cell_type": "code",
      "source": [
        "#List to make random choices from\n",
        "numbers = [i for i in range(6716)]\n",
        "indices_list = shuffle(numbers)"
      ],
      "metadata": {
        "id": "birTaFFQOAYA"
      },
      "execution_count": 113,
      "outputs": []
    },
    {
      "cell_type": "code",
      "source": [
        "#Generating inputs and ylabels\n",
        "for i in range(500000):\n",
        "  #select 3 indices at random without replacement\n",
        "  j,k,l = random.sample(indices_list,3)\n",
        "\n",
        "  #find the index of the most similar movie\n",
        "  movie_1_ind = np.argmin(cs_matrix[j])\n",
        "  movie_2_ind = np.argmin(cs_matrix[k])\n",
        "  movie_3_ind = np.argmin(cs_matrix[l])\n",
        "\n",
        "  #Get the vector of these movies\n",
        "  y = (metadata[movie_1_ind]+metadata[movie_2_ind]+metadata[movie_3_ind])*(1/3)\n",
        "\n",
        "  #cat those vectors\n",
        "  x = torch.cat((metadata[j],metadata[k],metadata[l]),0)\n",
        "\n",
        "  #assign to arrays\n",
        "  X_DATA[i] = x\n",
        "  Y_LABEL[i] = y\n",
        "  COMBINED_ID[i] = np.array([id[movie_1_ind],id[movie_2_ind],id[movie_3_ind]])\n"
      ],
      "metadata": {
        "id": "-lQUWZr5PODg"
      },
      "execution_count": 114,
      "outputs": []
    },
    {
      "cell_type": "code",
      "source": [
        "#Writing to a h5 file\n",
        "with h5py.File(\"generated_data_5k.hd5\", 'w') as hf: \n",
        "  hf.create_dataset('x_data', data=X_DATA)\n",
        "  hf.create_dataset('y_label', data=Y_LABEL)\n",
        "  hf.create_dataset('combination', data=COMBINED_ID)"
      ],
      "metadata": {
        "id": "f8fOwcB3UEtB"
      },
      "execution_count": 115,
      "outputs": []
    },
    {
      "cell_type": "code",
      "source": [],
      "metadata": {
        "id": "Nan4Sc5AUntx"
      },
      "execution_count": null,
      "outputs": []
    },
    {
      "cell_type": "code",
      "source": [
        "score = np.zeros((2,6716))\n",
        "r= 0 \n",
        "t = []\n",
        "for j in range(0,100):\n",
        "  Y = (1/3)*(metadata[11947]+metadata[11512]+metadata[16539])\n",
        "  score = np.zeros((1,28725))\n",
        "  inp = Y.reshape((409,1))\n",
        "  st = time.time()\n",
        "  for i in range(28725):\n",
        "    # if( (i != ids[0]) and (i != ids[1]) and (i != ids[2])):\n",
        "    y = metadata[i].reshape((409,1))\n",
        "    cs = distance.cosine(inp.T,y.T, w)\n",
        "    score[0][i] = cs\n",
        "  et = time.time()\n",
        "  t.append(et-st)\n",
        "# sorted_score = dict(sorted(score.items(), key = itemgetter(1), reverse = False)[:5])"
      ],
      "metadata": {
        "id": "9ohgNEbtiToP"
      },
      "execution_count": null,
      "outputs": []
    },
    {
      "cell_type": "code",
      "source": [
        "import matplotlib.pyplot as plt\n",
        "plt.hist(t)"
      ],
      "metadata": {
        "colab": {
          "base_uri": "https://localhost:8080/",
          "height": 352
        },
        "id": "M0OzEWW3i5Hi",
        "outputId": "a9cd8723-7079-4f7a-b604-f96923d4d7d7"
      },
      "execution_count": null,
      "outputs": [
        {
          "output_type": "execute_result",
          "data": {
            "text/plain": [
              "(array([49., 12., 17.,  9.,  1.,  2.,  3.,  2.,  3.,  2.]),\n",
              " array([2.38343239, 2.57034981, 2.75726724, 2.94418466, 3.13110209,\n",
              "        3.31801951, 3.50493693, 3.69185436, 3.87877178, 4.06568921,\n",
              "        4.25260663]),\n",
              " <a list of 10 Patch objects>)"
            ]
          },
          "metadata": {},
          "execution_count": 17
        },
        {
          "output_type": "display_data",
          "data": {
            "text/plain": [
              "<Figure size 432x288 with 1 Axes>"
            ],
            "image/png": "[encoded data removed]"
          },
          "metadata": {
            "needs_background": "light"
          }
        }
      ]
    },
    {
      "cell_type": "code",
      "source": [
        "def generate_output(i,j,k):\n",
        "  print(\"Movie 1: \", str(title[i])[2:-1],'\\n')\n",
        "  print(\"Movie 2: \", str(title[j])[2:-1],'\\n')\n",
        "  print(\"Movie 3: \", str(title[k])[2:-1],'\\n')\n",
        "  x = (1/3)*(metadata[i]+metadata[j]+metadata[k])\n",
        "  print(\"****** RECOMMENDED MOVIES ******\")\n",
        "  recommendation = similarity(x, [i,j,k])\n",
        "  # for i in recommendation:\n",
        "  #   print(i,recommendation[i][1],\"\\n\")\n",
        "  "
      ],
      "metadata": {
        "id": "WzL2KlVZU9bP"
      },
      "execution_count": null,
      "outputs": []
    },
    {
      "cell_type": "code",
      "source": [
        "generate_output(5308, 4173, 11947)"
      ],
      "metadata": {
        "colab": {
          "base_uri": "https://localhost:8080/"
        },
        "id": "_IlraktuVOn2",
        "outputId": "1d8e2c12-eada-4934-9459-89b3993586b6"
      },
      "execution_count": null,
      "outputs": [
        {
          "output_type": "stream",
          "name": "stdout",
          "text": [
            "Movie 1:  The Italian Job \n",
            "\n",
            "Movie 2:  Ocean's Eleven \n",
            "\n",
            "Movie 3:  Inception \n",
            "\n",
            "****** RECOMMENDED MOVIES ******\n",
            "Time taken =  3.6085238456726074\n",
            "The Dark Knight Rises 13641 \n",
            "\n",
            "Rolling Thunder 6334 \n",
            "\n",
            "The Long Good Friday 4377 \n",
            "\n",
            "Faster 12480 \n",
            "\n",
            "Armed and Dangerous 2030 \n",
            "\n"
          ]
        }
      ]
    }
  ]
}