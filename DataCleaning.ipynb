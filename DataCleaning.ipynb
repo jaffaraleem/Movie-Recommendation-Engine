{
  "cells": [
    {
      "cell_type": "code",
      "execution_count": 1,
      "metadata": {
        "id": "BOOROIsC5bzj"
      },
      "outputs": [],
      "source": [
        "#Import necessary libraries\n",
        "import pandas as pd\n",
        "import numpy as np\n",
        "from ast import literal_eval\n",
        "\n",
        "#Libraries for text preprocessing\n",
        "import string \n",
        "import nltk \n",
        "from nltk.stem import WordNetLemmatizer"
      ]
    },
    {
      "cell_type": "code",
      "execution_count": 47,
      "metadata": {
        "id": "mWrUdhVG8jkj"
      },
      "outputs": [],
      "source": [
        "#Helper functions\n",
        "def get_director(x):\n",
        "    for i in x:\n",
        "        if i['job'] == 'Director':\n",
        "            return i['name']\n",
        "    return np.nan\n",
        "\n",
        "def empty_cells_in_column(df):\n",
        "  for cols in df:\n",
        "    x = df[cols].isnull().value_counts()\n",
        "    print(x)\n",
        "\n",
        "def remove_punctuation(text):\n",
        "  punctuationfree=\"\".join([i for i in text if i not in string.punctuation])\n",
        "  return punctuationfree\n",
        "\n",
        "def remove_stopwords(text):\n",
        "    output= [i for i in text if i not in stopwords]\n",
        "    return output\n",
        "\n",
        "wordnet_lemmatizer = WordNetLemmatizer()\n",
        "def lemmatizer(text):\n",
        "  lemm_text = [wordnet_lemmatizer.lemmatize(word) for word in text]\n",
        "  return lemm_text\n",
        "\n",
        "def vect(x):\n",
        "  l = len(x)\n",
        "  v = np.zeros((l,100))\n",
        "  for i in range(l):\n",
        "    try:\n",
        "      v[i] = embeddings_index[x[i]]\n",
        "    except:\n",
        "      v[i] = np.zeros((1,100))\n",
        "  v = 1/l * np.sum(v, axis=0)\n",
        "  return v\n",
        "\n",
        "def replace_Word(x):\n",
        "  for i in range(len(x)):\n",
        "    if x[i]==\"sciencefiction\":\n",
        "      x[i]=\"science\"\n",
        "    if x[i]==\"tvmovie\":\n",
        "      x[i]=\"television\"\n",
        "  return x\n",
        "  \n",
        "def split_name(x):\n",
        "  l=[]\n",
        "  for i in x:\n",
        "    k = i.split(\" \")\n",
        "    for j in k:\n",
        "      l.append(j)\n",
        "  return l"
      ]
    },
    {
      "cell_type": "code",
      "execution_count": 3,
      "metadata": {
        "id": "p73AdPcj6Guv"
      },
      "outputs": [],
      "source": [
        "#Data file paths\n",
        "METADATA_PATH = '/content/drive/MyDrive/Colab Notebooks/ee541/Project/Data/movies_metadata.csv'\n",
        "CREDITS_PATH = '/content/drive/MyDrive/Colab Notebooks/ee541/Project/Data/credits.csv'"
      ]
    },
    {
      "cell_type": "code",
      "execution_count": 4,
      "metadata": {
        "colab": {
          "base_uri": "https://localhost:8080/"
        },
        "id": "yiok74J16rNo",
        "outputId": "b8e94f75-ca7d-49cb-ec1d-bc5d155637d3"
      },
      "outputs": [
        {
          "name": "stderr",
          "output_type": "stream",
          "text": [
            "/usr/local/lib/python3.8/dist-packages/IPython/core/interactiveshell.py:3326: DtypeWarning: Columns (10) have mixed types.Specify dtype option on import or set low_memory=False.\n",
            "  exec(code_obj, self.user_global_ns, self.user_ns)\n"
          ]
        }
      ],
      "source": [
        "metadata_df = pd.read_csv(METADATA_PATH)\n",
        "credits_df = pd.read_csv(CREDITS_PATH)"
      ]
    },
    {
      "cell_type": "code",
      "execution_count": 5,
      "metadata": {
        "id": "00O5LvS96_4z"
      },
      "outputs": [],
      "source": [
        "#Removing irrelevant data features\n",
        "metadata_df = metadata_df.drop(['homepage','imdb_id', 'tagline', 'video', 'title', 'spoken_languages','production_countries','poster_path','production_companies'], axis=1)"
      ]
    },
    {
      "cell_type": "code",
      "execution_count": 6,
      "metadata": {
        "id": "KD9GnCgI7ckH"
      },
      "outputs": [],
      "source": [
        "#Keeping only true false values\n",
        "metadata_df = metadata_df.loc[metadata_df.adult.isin(['True','False']), :]"
      ]
    },
    {
      "cell_type": "code",
      "execution_count": 7,
      "metadata": {
        "id": "d4EtlpYJ7xDL"
      },
      "outputs": [],
      "source": [
        "#Merging the credits csv on the metadata df\n",
        "metadata_df['id'] = metadata_df['id'].astype('int')\n",
        "credits_df['id'] = credits_df['id'].astype('int')\n",
        "metadata_df = metadata_df.merge(credits_df, on= 'id')"
      ]
    },
    {
      "cell_type": "code",
      "execution_count": 8,
      "metadata": {
        "id": "nuh9Q9NG8Tju"
      },
      "outputs": [],
      "source": [
        "#Converting the cast to readable code\n",
        "metadata_df['crew'] = metadata_df['crew'].apply(literal_eval)\n",
        "metadata_df['cast'] = metadata_df['cast'].apply(literal_eval)\n",
        "metadata_df['genres'] = metadata_df['genres'].apply(literal_eval)"
      ]
    },
    {
      "cell_type": "code",
      "execution_count": 9,
      "metadata": {
        "id": "UHKFvKM38Tmk"
      },
      "outputs": [],
      "source": [
        "#Extracting the director,cast, genres from the credit.csv \n",
        "metadata_df['director'] = metadata_df['crew'].apply(get_director)\n",
        "metadata_df['cast'] = metadata_df['cast'].apply(lambda x: [i['name'] for i in x] if isinstance(x, list) else [])\n",
        "metadata_df['cast'] = metadata_df['cast'].apply(lambda x: x[:3] if len(x) >=3 else x)\n",
        "metadata_df['genres'] = metadata_df['genres'].apply(lambda x: [i['name'] for i in x] if isinstance(x, list) else [])"
      ]
    },
    {
      "cell_type": "code",
      "execution_count": 10,
      "metadata": {
        "id": "txkQTApA8TpB"
      },
      "outputs": [],
      "source": [
        "#Filling empty budget cells with avg value\n",
        "metadata_df['budget'] = metadata_df['budget'].astype('int')\n",
        "mean_budget = metadata_df['budget'].mean()\n",
        "metadata_df['budget'] = metadata_df['budget'].replace( 0, mean_budget)"
      ]
    },
    {
      "cell_type": "code",
      "execution_count": 11,
      "metadata": {
        "id": "vy_v8f7v--e1"
      },
      "outputs": [],
      "source": [
        "#Filling empty revenue cells with avg value\n",
        "metadata_df['revenue'] = metadata_df['revenue'].replace( np.NaN, 0)\n",
        "metadata_df['revenue'] = metadata_df['revenue'].astype('int')\n",
        "mean_revenue = metadata_df['revenue'].mean()\n",
        "metadata_df['revenue'] = metadata_df['revenue'].replace( 0, mean_revenue)"
      ]
    },
    {
      "cell_type": "code",
      "execution_count": 12,
      "metadata": {
        "id": "4uWLXpuG_a3S"
      },
      "outputs": [],
      "source": [
        "#Adding 0 to all empty cells\n",
        "metadata_df['belongs_to_collection'] = metadata_df['belongs_to_collection'].replace(np.NaN, \"{'id':0}\")\n",
        "metadata_df['belongs_to_collection'] = metadata_df['belongs_to_collection'].apply(literal_eval)\n",
        "metadata_df['belongs_to_collection'] = metadata_df['belongs_to_collection'].apply(lambda x: x['id'] if isinstance(x, dict) else [])\n",
        "#Setting the value to random numbers\n",
        "metadata_df['belongs_to_collection'] = metadata_df['belongs_to_collection'].astype('int')"
      ]
    },
    {
      "cell_type": "code",
      "execution_count": 13,
      "metadata": {
        "id": "35bxG7Z41NAe"
      },
      "outputs": [],
      "source": [
        "#Filtering to only Released movies\n",
        "metadata_df = metadata_df[metadata_df.status == 'Released']"
      ]
    },
    {
      "cell_type": "code",
      "execution_count": 14,
      "metadata": {
        "id": "e_yv1Vrj3gmb"
      },
      "outputs": [],
      "source": [
        "#Filtering to only english movies\n",
        "metadata_df = metadata_df[metadata_df.original_language == 'en']"
      ]
    },
    {
      "cell_type": "code",
      "execution_count": 15,
      "metadata": {
        "id": "tSAOViBfxIkp"
      },
      "outputs": [],
      "source": [
        "#Dropping the rows with null values\n",
        "metadata_df = metadata_df.dropna(subset=['overview','release_date', 'runtime','director']) # dropped 1 example from runtime, 1 from overview, 11 from language, 87 from date"
      ]
    },
    {
      "cell_type": "code",
      "execution_count": 16,
      "metadata": {
        "id": "RytlW2JbwHOY"
      },
      "outputs": [],
      "source": [
        "#Converting release date to year\n",
        "metadata_df['year']= pd.to_datetime(metadata_df['release_date'], format = '%Y-%m-%d').dt.year\n",
        "metadata_df['year'] = metadata_df['year'].astype('int')"
      ]
    },
    {
      "cell_type": "code",
      "execution_count": 17,
      "metadata": {
        "id": "mT35yqEQ4XrT"
      },
      "outputs": [],
      "source": [
        "#Removing crew and status column after extracting the parameters needed\n",
        "metadata_df = metadata_df.drop(['crew','status','original_language','release_date'], axis = 1)"
      ]
    },
    {
      "cell_type": "code",
      "execution_count": 18,
      "metadata": {
        "id": "C6BfHz_YAddA"
      },
      "outputs": [],
      "source": [
        "#Creating a weighted rating feature\n",
        "C = metadata_df['vote_average'].mean()\n",
        "m = 10\n",
        "def weighted_rating(x):\n",
        "    v = x['vote_count']\n",
        "    R = x['vote_average']\n",
        "    return (v/(v+m) * R) + (m/(m+v) * C)\n",
        "metadata_df['wr'] = metadata_df.apply(weighted_rating, axis=1)"
      ]
    },
    {
      "cell_type": "code",
      "execution_count": 19,
      "metadata": {
        "id": "n-sLnIqlD7u6"
      },
      "outputs": [],
      "source": [
        "metadata_df = metadata_df.drop(['vote_average','vote_count'], axis = 1)"
      ]
    },
    {
      "cell_type": "code",
      "execution_count": 20,
      "metadata": {
        "colab": {
          "base_uri": "https://localhost:8080/",
          "height": 667
        },
        "id": "Ax4oL2OscsoZ",
        "outputId": "7b2813f9-d328-4fc4-98ea-19c00bd101d7"
      },
      "outputs": [
        {
          "data": {
            "text/html": [
              "\n",
              "  <div id=\"df-b811d680-9a29-433a-b869-39d2350e5210\">\n",
              "    <div class=\"colab-df-container\">\n",
              "      <div>\n",
              "<style scoped>\n",
              "    .dataframe tbody tr th:only-of-type {\n",
              "        vertical-align: middle;\n",
              "    }\n",
              "\n",
              "    .dataframe tbody tr th {\n",
              "        vertical-align: top;\n",
              "    }\n",
              "\n",
              "    .dataframe thead th {\n",
              "        text-align: right;\n",
              "    }\n",
              "</style>\n",
              "<table border=\"1\" class=\"dataframe\">\n",
              "  <thead>\n",
              "    <tr style=\"text-align: right;\">\n",
              "      <th></th>\n",
              "      <th>adult</th>\n",
              "      <th>belongs_to_collection</th>\n",
              "      <th>budget</th>\n",
              "      <th>genres</th>\n",
              "      <th>id</th>\n",
              "      <th>original_title</th>\n",
              "      <th>overview</th>\n",
              "      <th>popularity</th>\n",
              "      <th>revenue</th>\n",
              "      <th>runtime</th>\n",
              "      <th>cast</th>\n",
              "      <th>director</th>\n",
              "      <th>year</th>\n",
              "      <th>wr</th>\n",
              "    </tr>\n",
              "  </thead>\n",
              "  <tbody>\n",
              "    <tr>\n",
              "      <th>0</th>\n",
              "      <td>False</td>\n",
              "      <td>10194</td>\n",
              "      <td>3.000000e+07</td>\n",
              "      <td>[Animation, Comedy, Family]</td>\n",
              "      <td>862</td>\n",
              "      <td>Toy Story</td>\n",
              "      <td>Led by Woody, Andy's toys live happily in his ...</td>\n",
              "      <td>21.946943</td>\n",
              "      <td>3.735540e+08</td>\n",
              "      <td>81.0</td>\n",
              "      <td>[Tom Hanks, Tim Allen, Don Rickles]</td>\n",
              "      <td>John Lasseter</td>\n",
              "      <td>1995</td>\n",
              "      <td>7.696017</td>\n",
              "    </tr>\n",
              "    <tr>\n",
              "      <th>1</th>\n",
              "      <td>False</td>\n",
              "      <td>0</td>\n",
              "      <td>6.500000e+07</td>\n",
              "      <td>[Adventure, Fantasy, Family]</td>\n",
              "      <td>8844</td>\n",
              "      <td>Jumanji</td>\n",
              "      <td>When siblings Judy and Peter discover an encha...</td>\n",
              "      <td>17.015539</td>\n",
              "      <td>2.627972e+08</td>\n",
              "      <td>104.0</td>\n",
              "      <td>[Robin Williams, Jonathan Hyde, Kirsten Dunst]</td>\n",
              "      <td>Joe Johnston</td>\n",
              "      <td>1995</td>\n",
              "      <td>6.894383</td>\n",
              "    </tr>\n",
              "    <tr>\n",
              "      <th>2</th>\n",
              "      <td>False</td>\n",
              "      <td>119050</td>\n",
              "      <td>4.223284e+06</td>\n",
              "      <td>[Romance, Comedy]</td>\n",
              "      <td>15602</td>\n",
              "      <td>Grumpier Old Men</td>\n",
              "      <td>A family wedding reignites the ancient feud be...</td>\n",
              "      <td>11.7129</td>\n",
              "      <td>1.119786e+07</td>\n",
              "      <td>101.0</td>\n",
              "      <td>[Walter Matthau, Jack Lemmon, Ann-Margret]</td>\n",
              "      <td>Howard Deutch</td>\n",
              "      <td>1995</td>\n",
              "      <td>6.405793</td>\n",
              "    </tr>\n",
              "    <tr>\n",
              "      <th>3</th>\n",
              "      <td>False</td>\n",
              "      <td>0</td>\n",
              "      <td>1.600000e+07</td>\n",
              "      <td>[Comedy, Drama, Romance]</td>\n",
              "      <td>31357</td>\n",
              "      <td>Waiting to Exhale</td>\n",
              "      <td>Cheated on, mistreated and stepped on, the wom...</td>\n",
              "      <td>3.859495</td>\n",
              "      <td>8.145216e+07</td>\n",
              "      <td>127.0</td>\n",
              "      <td>[Whitney Houston, Angela Bassett, Loretta Devine]</td>\n",
              "      <td>Forest Whitaker</td>\n",
              "      <td>1995</td>\n",
              "      <td>5.972520</td>\n",
              "    </tr>\n",
              "    <tr>\n",
              "      <th>4</th>\n",
              "      <td>False</td>\n",
              "      <td>96871</td>\n",
              "      <td>4.223284e+06</td>\n",
              "      <td>[Comedy]</td>\n",
              "      <td>11862</td>\n",
              "      <td>Father of the Bride Part II</td>\n",
              "      <td>Just when George Banks has recovered from his ...</td>\n",
              "      <td>8.387519</td>\n",
              "      <td>7.657891e+07</td>\n",
              "      <td>106.0</td>\n",
              "      <td>[Steve Martin, Diane Keaton, Martin Short]</td>\n",
              "      <td>Charles Shyer</td>\n",
              "      <td>1995</td>\n",
              "      <td>5.691207</td>\n",
              "    </tr>\n",
              "  </tbody>\n",
              "</table>\n",
              "</div>\n",
              "      <button class=\"colab-df-convert\" onclick=\"convertToInteractive('df-b811d680-9a29-433a-b869-39d2350e5210')\"\n",
              "              title=\"Convert this dataframe to an interactive table.\"\n",
              "              style=\"display:none;\">\n",
              "        \n",
              "  <svg xmlns=\"http://www.w3.org/2000/svg\" height=\"24px\"viewBox=\"0 0 24 24\"\n",
              "       width=\"24px\">\n",
              "    <path d=\"M0 0h24v24H0V0z\" fill=\"none\"/>\n",
              "    <path d=\"M18.56 5.44l.94 2.06.94-2.06 2.06-.94-2.06-.94-.94-2.06-.94 2.06-2.06.94zm-11 1L8.5 8.5l.94-2.06 2.06-.94-2.06-.94L8.5 2.5l-.94 2.06-2.06.94zm10 10l.94 2.06.94-2.06 2.06-.94-2.06-.94-.94-2.06-.94 2.06-2.06.94z\"/><path d=\"M17.41 7.96l-1.37-1.37c-.4-.4-.92-.59-1.43-.59-.52 0-1.04.2-1.43.59L10.3 9.45l-7.72 7.72c-.78.78-.78 2.05 0 2.83L4 21.41c.39.39.9.59 1.41.59.51 0 1.02-.2 1.41-.59l7.78-7.78 2.81-2.81c.8-.78.8-2.07 0-2.86zM5.41 20L4 18.59l7.72-7.72 1.47 1.35L5.41 20z\"/>\n",
              "  </svg>\n",
              "      </button>\n",
              "      \n",
              "  <style>\n",
              "    .colab-df-container {\n",
              "      display:flex;\n",
              "      flex-wrap:wrap;\n",
              "      gap: 12px;\n",
              "    }\n",
              "\n",
              "    .colab-df-convert {\n",
              "      background-color: #E8F0FE;\n",
              "      border: none;\n",
              "      border-radius: 50%;\n",
              "      cursor: pointer;\n",
              "      display: none;\n",
              "      fill: #1967D2;\n",
              "      height: 32px;\n",
              "      padding: 0 0 0 0;\n",
              "      width: 32px;\n",
              "    }\n",
              "\n",
              "    .colab-df-convert:hover {\n",
              "      background-color: #E2EBFA;\n",
              "      box-shadow: 0px 1px 2px rgba(60, 64, 67, 0.3), 0px 1px 3px 1px rgba(60, 64, 67, 0.15);\n",
              "      fill: #174EA6;\n",
              "    }\n",
              "\n",
              "    [theme=dark] .colab-df-convert {\n",
              "      background-color: #3B4455;\n",
              "      fill: #D2E3FC;\n",
              "    }\n",
              "\n",
              "    [theme=dark] .colab-df-convert:hover {\n",
              "      background-color: #434B5C;\n",
              "      box-shadow: 0px 1px 3px 1px rgba(0, 0, 0, 0.15);\n",
              "      filter: drop-shadow(0px 1px 2px rgba(0, 0, 0, 0.3));\n",
              "      fill: #FFFFFF;\n",
              "    }\n",
              "  </style>\n",
              "\n",
              "      <script>\n",
              "        const buttonEl =\n",
              "          document.querySelector('#df-b811d680-9a29-433a-b869-39d2350e5210 button.colab-df-convert');\n",
              "        buttonEl.style.display =\n",
              "          google.colab.kernel.accessAllowed ? 'block' : 'none';\n",
              "\n",
              "        async function convertToInteractive(key) {\n",
              "          const element = document.querySelector('#df-b811d680-9a29-433a-b869-39d2350e5210');\n",
              "          const dataTable =\n",
              "            await google.colab.kernel.invokeFunction('convertToInteractive',\n",
              "                                                     [key], {});\n",
              "          if (!dataTable) return;\n",
              "\n",
              "          const docLinkHtml = 'Like what you see? Visit the ' +\n",
              "            '<a target=\"_blank\" href=https://colab.research.google.com/notebooks/data_table.ipynb>data table notebook</a>'\n",
              "            + ' to learn more about interactive tables.';\n",
              "          element.innerHTML = '';\n",
              "          dataTable['output_type'] = 'display_data';\n",
              "          await google.colab.output.renderOutput(dataTable, element);\n",
              "          const docLink = document.createElement('div');\n",
              "          docLink.innerHTML = docLinkHtml;\n",
              "          element.appendChild(docLink);\n",
              "        }\n",
              "      </script>\n",
              "    </div>\n",
              "  </div>\n",
              "  "
            ],
            "text/plain": [
              "   adult  belongs_to_collection        budget                        genres  \\\n",
              "0  False                  10194  3.000000e+07   [Animation, Comedy, Family]   \n",
              "1  False                      0  6.500000e+07  [Adventure, Fantasy, Family]   \n",
              "2  False                 119050  4.223284e+06             [Romance, Comedy]   \n",
              "3  False                      0  1.600000e+07      [Comedy, Drama, Romance]   \n",
              "4  False                  96871  4.223284e+06                      [Comedy]   \n",
              "\n",
              "      id               original_title  \\\n",
              "0    862                    Toy Story   \n",
              "1   8844                      Jumanji   \n",
              "2  15602             Grumpier Old Men   \n",
              "3  31357            Waiting to Exhale   \n",
              "4  11862  Father of the Bride Part II   \n",
              "\n",
              "                                            overview popularity       revenue  \\\n",
              "0  Led by Woody, Andy's toys live happily in his ...  21.946943  3.735540e+08   \n",
              "1  When siblings Judy and Peter discover an encha...  17.015539  2.627972e+08   \n",
              "2  A family wedding reignites the ancient feud be...    11.7129  1.119786e+07   \n",
              "3  Cheated on, mistreated and stepped on, the wom...   3.859495  8.145216e+07   \n",
              "4  Just when George Banks has recovered from his ...   8.387519  7.657891e+07   \n",
              "\n",
              "   runtime                                               cast  \\\n",
              "0     81.0                [Tom Hanks, Tim Allen, Don Rickles]   \n",
              "1    104.0     [Robin Williams, Jonathan Hyde, Kirsten Dunst]   \n",
              "2    101.0         [Walter Matthau, Jack Lemmon, Ann-Margret]   \n",
              "3    127.0  [Whitney Houston, Angela Bassett, Loretta Devine]   \n",
              "4    106.0         [Steve Martin, Diane Keaton, Martin Short]   \n",
              "\n",
              "          director  year        wr  \n",
              "0    John Lasseter  1995  7.696017  \n",
              "1     Joe Johnston  1995  6.894383  \n",
              "2    Howard Deutch  1995  6.405793  \n",
              "3  Forest Whitaker  1995  5.972520  \n",
              "4    Charles Shyer  1995  5.691207  "
            ]
          },
          "execution_count": 20,
          "metadata": {},
          "output_type": "execute_result"
        }
      ],
      "source": [
        "metadata_df.head()"
      ]
    },
    {
      "cell_type": "markdown",
      "metadata": {
        "id": "EieVnECR6mDU"
      },
      "source": [
        "Text Preprocessing"
      ]
    },
    {
      "cell_type": "code",
      "execution_count": 21,
      "metadata": {
        "id": "Gf0K8iNV6lMh"
      },
      "outputs": [],
      "source": [
        "#Converting true/false to 1/0\n",
        "metadata_df['adult'] = metadata_df['adult'].apply(lambda x : 0 if x==\"False\" else 1)"
      ]
    },
    {
      "cell_type": "code",
      "execution_count": 22,
      "metadata": {
        "id": "nkyEkL-17vN7"
      },
      "outputs": [],
      "source": [
        "#Converting all text to lowercase\n",
        "metadata_df['cast'] = metadata_df['cast'].apply(lambda x: [str.lower(i) for i in x])\n",
        "metadata_df['director'] = metadata_df['director'].apply(lambda x: [str.lower(x)])\n",
        "metadata_df['genres'] = metadata_df['genres'].apply(lambda x: [str.lower(i.replace(\" \", \"\")) for i in x])\n",
        "metadata_df['overview']= metadata_df['overview'].apply(lambda x: x.lower())"
      ]
    },
    {
      "cell_type": "code",
      "execution_count": 23,
      "metadata": {
        "id": "xYzhXwH47vXB"
      },
      "outputs": [],
      "source": [
        "#Removing punctuations and creating tokens for overview column\n",
        "metadata_df['overview']= metadata_df['overview'].apply(lambda x:remove_punctuation(x))\n",
        "metadata_df['overview']= metadata_df['overview'].apply(lambda x: list(x.split(\" \")))"
      ]
    },
    {
      "cell_type": "code",
      "execution_count": 24,
      "metadata": {
        "colab": {
          "base_uri": "https://localhost:8080/"
        },
        "id": "-d6D8q077vaX",
        "outputId": "5983a99a-d67d-40d2-9908-3215fae5dba6"
      },
      "outputs": [
        {
          "name": "stderr",
          "output_type": "stream",
          "text": [
            "[nltk_data] Downloading package stopwords to /root/nltk_data...\n",
            "[nltk_data]   Unzipping corpora/stopwords.zip.\n",
            "[nltk_data] Downloading package wordnet to /root/nltk_data...\n",
            "[nltk_data] Downloading package omw-1.4 to /root/nltk_data...\n"
          ]
        },
        {
          "data": {
            "text/plain": [
              "True"
            ]
          },
          "execution_count": 24,
          "metadata": {},
          "output_type": "execute_result"
        }
      ],
      "source": [
        "#Downloading stopwords and lemmetizers\n",
        "nltk.download('stopwords')\n",
        "nltk.download('wordnet')\n",
        "nltk.download('omw-1.4')"
      ]
    },
    {
      "cell_type": "code",
      "execution_count": 25,
      "metadata": {
        "id": "4Hj4np1N_NW-"
      },
      "outputs": [],
      "source": [
        "#Removing stopwords\n",
        "stopwords = nltk.corpus.stopwords.words('english')\n",
        "metadata_df['overview']= metadata_df['overview'].apply(lambda x:remove_stopwords(x))"
      ]
    },
    {
      "cell_type": "code",
      "execution_count": 26,
      "metadata": {
        "id": "wYgI9mlz_Nge"
      },
      "outputs": [],
      "source": [
        "#Applying Lemmatization\n",
        "metadata_df['overview']=metadata_df['overview'].apply(lambda x:lemmatizer(x))"
      ]
    },
    {
      "cell_type": "code",
      "execution_count": 27,
      "metadata": {
        "colab": {
          "base_uri": "https://localhost:8080/",
          "height": 667
        },
        "id": "c7Q6gLu27vdC",
        "outputId": "469dc2e6-a4c9-4b96-f38f-f75c6dd54003"
      },
      "outputs": [
        {
          "data": {
            "text/html": [
              "\n",
              "  <div id=\"df-bbe381a4-06c5-40b9-b8cb-0e020bb7a18e\">\n",
              "    <div class=\"colab-df-container\">\n",
              "      <div>\n",
              "<style scoped>\n",
              "    .dataframe tbody tr th:only-of-type {\n",
              "        vertical-align: middle;\n",
              "    }\n",
              "\n",
              "    .dataframe tbody tr th {\n",
              "        vertical-align: top;\n",
              "    }\n",
              "\n",
              "    .dataframe thead th {\n",
              "        text-align: right;\n",
              "    }\n",
              "</style>\n",
              "<table border=\"1\" class=\"dataframe\">\n",
              "  <thead>\n",
              "    <tr style=\"text-align: right;\">\n",
              "      <th></th>\n",
              "      <th>adult</th>\n",
              "      <th>belongs_to_collection</th>\n",
              "      <th>budget</th>\n",
              "      <th>genres</th>\n",
              "      <th>id</th>\n",
              "      <th>original_title</th>\n",
              "      <th>overview</th>\n",
              "      <th>popularity</th>\n",
              "      <th>revenue</th>\n",
              "      <th>runtime</th>\n",
              "      <th>cast</th>\n",
              "      <th>director</th>\n",
              "      <th>year</th>\n",
              "      <th>wr</th>\n",
              "    </tr>\n",
              "  </thead>\n",
              "  <tbody>\n",
              "    <tr>\n",
              "      <th>0</th>\n",
              "      <td>0</td>\n",
              "      <td>10194</td>\n",
              "      <td>3.000000e+07</td>\n",
              "      <td>[animation, comedy, family]</td>\n",
              "      <td>862</td>\n",
              "      <td>Toy Story</td>\n",
              "      <td>[led, woody, andys, toy, live, happily, room, ...</td>\n",
              "      <td>21.946943</td>\n",
              "      <td>3.735540e+08</td>\n",
              "      <td>81.0</td>\n",
              "      <td>[tom hanks, tim allen, don rickles]</td>\n",
              "      <td>[john lasseter]</td>\n",
              "      <td>1995</td>\n",
              "      <td>7.696017</td>\n",
              "    </tr>\n",
              "    <tr>\n",
              "      <th>1</th>\n",
              "      <td>0</td>\n",
              "      <td>0</td>\n",
              "      <td>6.500000e+07</td>\n",
              "      <td>[adventure, fantasy, family]</td>\n",
              "      <td>8844</td>\n",
              "      <td>Jumanji</td>\n",
              "      <td>[sibling, judy, peter, discover, enchanted, bo...</td>\n",
              "      <td>17.015539</td>\n",
              "      <td>2.627972e+08</td>\n",
              "      <td>104.0</td>\n",
              "      <td>[robin williams, jonathan hyde, kirsten dunst]</td>\n",
              "      <td>[joe johnston]</td>\n",
              "      <td>1995</td>\n",
              "      <td>6.894383</td>\n",
              "    </tr>\n",
              "    <tr>\n",
              "      <th>2</th>\n",
              "      <td>0</td>\n",
              "      <td>119050</td>\n",
              "      <td>4.223284e+06</td>\n",
              "      <td>[romance, comedy]</td>\n",
              "      <td>15602</td>\n",
              "      <td>Grumpier Old Men</td>\n",
              "      <td>[family, wedding, reignites, ancient, feud, ne...</td>\n",
              "      <td>11.7129</td>\n",
              "      <td>1.119786e+07</td>\n",
              "      <td>101.0</td>\n",
              "      <td>[walter matthau, jack lemmon, ann-margret]</td>\n",
              "      <td>[howard deutch]</td>\n",
              "      <td>1995</td>\n",
              "      <td>6.405793</td>\n",
              "    </tr>\n",
              "    <tr>\n",
              "      <th>3</th>\n",
              "      <td>0</td>\n",
              "      <td>0</td>\n",
              "      <td>1.600000e+07</td>\n",
              "      <td>[comedy, drama, romance]</td>\n",
              "      <td>31357</td>\n",
              "      <td>Waiting to Exhale</td>\n",
              "      <td>[cheated, mistreated, stepped, woman, holding,...</td>\n",
              "      <td>3.859495</td>\n",
              "      <td>8.145216e+07</td>\n",
              "      <td>127.0</td>\n",
              "      <td>[whitney houston, angela bassett, loretta devine]</td>\n",
              "      <td>[forest whitaker]</td>\n",
              "      <td>1995</td>\n",
              "      <td>5.972520</td>\n",
              "    </tr>\n",
              "    <tr>\n",
              "      <th>4</th>\n",
              "      <td>0</td>\n",
              "      <td>96871</td>\n",
              "      <td>4.223284e+06</td>\n",
              "      <td>[comedy]</td>\n",
              "      <td>11862</td>\n",
              "      <td>Father of the Bride Part II</td>\n",
              "      <td>[george, bank, recovered, daughter, wedding, r...</td>\n",
              "      <td>8.387519</td>\n",
              "      <td>7.657891e+07</td>\n",
              "      <td>106.0</td>\n",
              "      <td>[steve martin, diane keaton, martin short]</td>\n",
              "      <td>[charles shyer]</td>\n",
              "      <td>1995</td>\n",
              "      <td>5.691207</td>\n",
              "    </tr>\n",
              "  </tbody>\n",
              "</table>\n",
              "</div>\n",
              "      <button class=\"colab-df-convert\" onclick=\"convertToInteractive('df-bbe381a4-06c5-40b9-b8cb-0e020bb7a18e')\"\n",
              "              title=\"Convert this dataframe to an interactive table.\"\n",
              "              style=\"display:none;\">\n",
              "        \n",
              "  <svg xmlns=\"http://www.w3.org/2000/svg\" height=\"24px\"viewBox=\"0 0 24 24\"\n",
              "       width=\"24px\">\n",
              "    <path d=\"M0 0h24v24H0V0z\" fill=\"none\"/>\n",
              "    <path d=\"M18.56 5.44l.94 2.06.94-2.06 2.06-.94-2.06-.94-.94-2.06-.94 2.06-2.06.94zm-11 1L8.5 8.5l.94-2.06 2.06-.94-2.06-.94L8.5 2.5l-.94 2.06-2.06.94zm10 10l.94 2.06.94-2.06 2.06-.94-2.06-.94-.94-2.06-.94 2.06-2.06.94z\"/><path d=\"M17.41 7.96l-1.37-1.37c-.4-.4-.92-.59-1.43-.59-.52 0-1.04.2-1.43.59L10.3 9.45l-7.72 7.72c-.78.78-.78 2.05 0 2.83L4 21.41c.39.39.9.59 1.41.59.51 0 1.02-.2 1.41-.59l7.78-7.78 2.81-2.81c.8-.78.8-2.07 0-2.86zM5.41 20L4 18.59l7.72-7.72 1.47 1.35L5.41 20z\"/>\n",
              "  </svg>\n",
              "      </button>\n",
              "      \n",
              "  <style>\n",
              "    .colab-df-container {\n",
              "      display:flex;\n",
              "      flex-wrap:wrap;\n",
              "      gap: 12px;\n",
              "    }\n",
              "\n",
              "    .colab-df-convert {\n",
              "      background-color: #E8F0FE;\n",
              "      border: none;\n",
              "      border-radius: 50%;\n",
              "      cursor: pointer;\n",
              "      display: none;\n",
              "      fill: #1967D2;\n",
              "      height: 32px;\n",
              "      padding: 0 0 0 0;\n",
              "      width: 32px;\n",
              "    }\n",
              "\n",
              "    .colab-df-convert:hover {\n",
              "      background-color: #E2EBFA;\n",
              "      box-shadow: 0px 1px 2px rgba(60, 64, 67, 0.3), 0px 1px 3px 1px rgba(60, 64, 67, 0.15);\n",
              "      fill: #174EA6;\n",
              "    }\n",
              "\n",
              "    [theme=dark] .colab-df-convert {\n",
              "      background-color: #3B4455;\n",
              "      fill: #D2E3FC;\n",
              "    }\n",
              "\n",
              "    [theme=dark] .colab-df-convert:hover {\n",
              "      background-color: #434B5C;\n",
              "      box-shadow: 0px 1px 3px 1px rgba(0, 0, 0, 0.15);\n",
              "      filter: drop-shadow(0px 1px 2px rgba(0, 0, 0, 0.3));\n",
              "      fill: #FFFFFF;\n",
              "    }\n",
              "  </style>\n",
              "\n",
              "      <script>\n",
              "        const buttonEl =\n",
              "          document.querySelector('#df-bbe381a4-06c5-40b9-b8cb-0e020bb7a18e button.colab-df-convert');\n",
              "        buttonEl.style.display =\n",
              "          google.colab.kernel.accessAllowed ? 'block' : 'none';\n",
              "\n",
              "        async function convertToInteractive(key) {\n",
              "          const element = document.querySelector('#df-bbe381a4-06c5-40b9-b8cb-0e020bb7a18e');\n",
              "          const dataTable =\n",
              "            await google.colab.kernel.invokeFunction('convertToInteractive',\n",
              "                                                     [key], {});\n",
              "          if (!dataTable) return;\n",
              "\n",
              "          const docLinkHtml = 'Like what you see? Visit the ' +\n",
              "            '<a target=\"_blank\" href=https://colab.research.google.com/notebooks/data_table.ipynb>data table notebook</a>'\n",
              "            + ' to learn more about interactive tables.';\n",
              "          element.innerHTML = '';\n",
              "          dataTable['output_type'] = 'display_data';\n",
              "          await google.colab.output.renderOutput(dataTable, element);\n",
              "          const docLink = document.createElement('div');\n",
              "          docLink.innerHTML = docLinkHtml;\n",
              "          element.appendChild(docLink);\n",
              "        }\n",
              "      </script>\n",
              "    </div>\n",
              "  </div>\n",
              "  "
            ],
            "text/plain": [
              "   adult  belongs_to_collection        budget                        genres  \\\n",
              "0      0                  10194  3.000000e+07   [animation, comedy, family]   \n",
              "1      0                      0  6.500000e+07  [adventure, fantasy, family]   \n",
              "2      0                 119050  4.223284e+06             [romance, comedy]   \n",
              "3      0                      0  1.600000e+07      [comedy, drama, romance]   \n",
              "4      0                  96871  4.223284e+06                      [comedy]   \n",
              "\n",
              "      id               original_title  \\\n",
              "0    862                    Toy Story   \n",
              "1   8844                      Jumanji   \n",
              "2  15602             Grumpier Old Men   \n",
              "3  31357            Waiting to Exhale   \n",
              "4  11862  Father of the Bride Part II   \n",
              "\n",
              "                                            overview popularity       revenue  \\\n",
              "0  [led, woody, andys, toy, live, happily, room, ...  21.946943  3.735540e+08   \n",
              "1  [sibling, judy, peter, discover, enchanted, bo...  17.015539  2.627972e+08   \n",
              "2  [family, wedding, reignites, ancient, feud, ne...    11.7129  1.119786e+07   \n",
              "3  [cheated, mistreated, stepped, woman, holding,...   3.859495  8.145216e+07   \n",
              "4  [george, bank, recovered, daughter, wedding, r...   8.387519  7.657891e+07   \n",
              "\n",
              "   runtime                                               cast  \\\n",
              "0     81.0                [tom hanks, tim allen, don rickles]   \n",
              "1    104.0     [robin williams, jonathan hyde, kirsten dunst]   \n",
              "2    101.0         [walter matthau, jack lemmon, ann-margret]   \n",
              "3    127.0  [whitney houston, angela bassett, loretta devine]   \n",
              "4    106.0         [steve martin, diane keaton, martin short]   \n",
              "\n",
              "            director  year        wr  \n",
              "0    [john lasseter]  1995  7.696017  \n",
              "1     [joe johnston]  1995  6.894383  \n",
              "2    [howard deutch]  1995  6.405793  \n",
              "3  [forest whitaker]  1995  5.972520  \n",
              "4    [charles shyer]  1995  5.691207  "
            ]
          },
          "execution_count": 27,
          "metadata": {},
          "output_type": "execute_result"
        }
      ],
      "source": [
        "metadata_df.head()"
      ]
    },
    {
      "cell_type": "code",
      "execution_count": 28,
      "metadata": {
        "id": "lzwSXK-NCxoJ"
      },
      "outputs": [],
      "source": [
        "metadata_df['genres'] = metadata_df['genres'].apply(lambda x: np.NaN if len(x)==0 else x)\n",
        "metadata_df['overview'] = metadata_df['overview'].apply(lambda x: np.NaN if len(x)==0 else x)\n",
        "metadata_df['cast'] = metadata_df['cast'].apply(lambda x: np.NaN if len(x)==0 else x)\n",
        "metadata_df['director'] = metadata_df['director'].apply(lambda x: np.NaN if len(x)==0 else x)"
      ]
    },
    {
      "cell_type": "code",
      "execution_count": 29,
      "metadata": {
        "colab": {
          "base_uri": "https://localhost:8080/"
        },
        "id": "1AfgF5-u7vii",
        "outputId": "fb05e63e-392d-4d51-d891-3ee523bf2746"
      },
      "outputs": [
        {
          "data": {
            "text/plain": [
              "(31218, 14)"
            ]
          },
          "execution_count": 29,
          "metadata": {},
          "output_type": "execute_result"
        }
      ],
      "source": [
        "metadata_df.shape"
      ]
    },
    {
      "cell_type": "code",
      "execution_count": 30,
      "metadata": {
        "id": "HeifSCti7vk3"
      },
      "outputs": [],
      "source": [
        "metadata_df = metadata_df.dropna(subset = ['genres','overview','cast','director'])"
      ]
    },
    {
      "cell_type": "code",
      "execution_count": 31,
      "metadata": {
        "colab": {
          "base_uri": "https://localhost:8080/"
        },
        "id": "56SnZ5jH7vnb",
        "outputId": "0f2f6875-2b64-4735-cea2-19acd24f0a89"
      },
      "outputs": [
        {
          "data": {
            "text/plain": [
              "(28725, 14)"
            ]
          },
          "execution_count": 31,
          "metadata": {},
          "output_type": "execute_result"
        }
      ],
      "source": [
        "metadata_df.shape"
      ]
    },
    {
      "cell_type": "code",
      "execution_count": 34,
      "metadata": {
        "id": "zhNjUK4t9beX"
      },
      "outputs": [],
      "source": [
        "metadata_df = metadata_df.drop_duplicates(['id'])"
      ]
    },
    {
      "cell_type": "code",
      "execution_count": 35,
      "metadata": {
        "colab": {
          "base_uri": "https://localhost:8080/"
        },
        "id": "1TYPDgHFaArg",
        "outputId": "78311a81-3bc3-44b8-ff0a-28644ef0e814"
      },
      "outputs": [
        {
          "data": {
            "text/plain": [
              "(28670, 14)"
            ]
          },
          "execution_count": 35,
          "metadata": {},
          "output_type": "execute_result"
        }
      ],
      "source": [
        "metadata_df.shape"
      ]
    },
    {
      "cell_type": "code",
      "execution_count": 54,
      "metadata": {
        "id": "csC_aFO7y336"
      },
      "outputs": [],
      "source": [
        "df = metadata_df.copy()"
      ]
    },
    {
      "cell_type": "code",
      "execution_count": 55,
      "metadata": {
        "id": "PO_Icj1SMK7C"
      },
      "outputs": [],
      "source": [
        "df = df[(df.year > 2006)]"
      ]
    },
    {
      "cell_type": "code",
      "execution_count": 56,
      "metadata": {
        "id": "DQERvA3XPGC8"
      },
      "outputs": [],
      "source": [
        "df = df[(df.runtime > 75)]"
      ]
    },
    {
      "cell_type": "code",
      "execution_count": 57,
      "metadata": {
        "id": "reD1JyFpP62P"
      },
      "outputs": [],
      "source": [
        "df['popularity']=df['popularity'].astype(float)\n",
        "df = df[(df.popularity > 1)]"
      ]
    },
    {
      "cell_type": "code",
      "execution_count": 58,
      "metadata": {
        "colab": {
          "base_uri": "https://localhost:8080/"
        },
        "id": "mHHxJGg6PLKw",
        "outputId": "b0b98781-1906-42b6-c32b-8ff1e8f6364d"
      },
      "outputs": [
        {
          "data": {
            "text/plain": [
              "(6716, 14)"
            ]
          },
          "execution_count": 58,
          "metadata": {},
          "output_type": "execute_result"
        }
      ],
      "source": [
        "df.shape"
      ]
    },
    {
      "cell_type": "code",
      "execution_count": 59,
      "metadata": {
        "id": "mRhf9ETp_zkJ"
      },
      "outputs": [],
      "source": [
        "df.to_csv(\"cleaned_data.csv\")"
      ]
    },
    {
      "cell_type": "code",
      "execution_count": 60,
      "metadata": {
        "colab": {
          "base_uri": "https://localhost:8080/",
          "height": 669
        },
        "id": "WQXfwiQexbw5",
        "outputId": "f40966d1-b232-4cf5-9e0e-0ad72c719668"
      },
      "outputs": [
        {
          "data": {
            "text/html": [
              "\n",
              "  <div id=\"df-08153946-cf76-4840-8e0c-4f93bd3ea38e\">\n",
              "    <div class=\"colab-df-container\">\n",
              "      <div>\n",
              "<style scoped>\n",
              "    .dataframe tbody tr th:only-of-type {\n",
              "        vertical-align: middle;\n",
              "    }\n",
              "\n",
              "    .dataframe tbody tr th {\n",
              "        vertical-align: top;\n",
              "    }\n",
              "\n",
              "    .dataframe thead th {\n",
              "        text-align: right;\n",
              "    }\n",
              "</style>\n",
              "<table border=\"1\" class=\"dataframe\">\n",
              "  <thead>\n",
              "    <tr style=\"text-align: right;\">\n",
              "      <th></th>\n",
              "      <th>adult</th>\n",
              "      <th>belongs_to_collection</th>\n",
              "      <th>budget</th>\n",
              "      <th>genres</th>\n",
              "      <th>id</th>\n",
              "      <th>original_title</th>\n",
              "      <th>overview</th>\n",
              "      <th>popularity</th>\n",
              "      <th>revenue</th>\n",
              "      <th>runtime</th>\n",
              "      <th>cast</th>\n",
              "      <th>director</th>\n",
              "      <th>year</th>\n",
              "      <th>wr</th>\n",
              "    </tr>\n",
              "  </thead>\n",
              "  <tbody>\n",
              "    <tr>\n",
              "      <th>11194</th>\n",
              "      <td>0</td>\n",
              "      <td>0</td>\n",
              "      <td>4.000000e+07</td>\n",
              "      <td>[adventure, drama]</td>\n",
              "      <td>77221</td>\n",
              "      <td>Black Gold</td>\n",
              "      <td>[arabian, peninsula, 1930s, two, warring, lead...</td>\n",
              "      <td>6.652197</td>\n",
              "      <td>5446000.0</td>\n",
              "      <td>130.0</td>\n",
              "      <td>[mark strong, antonio banderas, freida pinto]</td>\n",
              "      <td>[jean-jacques annaud]</td>\n",
              "      <td>2011</td>\n",
              "      <td>5.858516</td>\n",
              "    </tr>\n",
              "    <tr>\n",
              "      <th>11517</th>\n",
              "      <td>0</td>\n",
              "      <td>0</td>\n",
              "      <td>2.100000e+07</td>\n",
              "      <td>[crime, drama]</td>\n",
              "      <td>1646</td>\n",
              "      <td>Freedom Writers</td>\n",
              "      <td>[young, teacher, inspires, class, atrisk, stud...</td>\n",
              "      <td>13.585233</td>\n",
              "      <td>41170784.0</td>\n",
              "      <td>123.0</td>\n",
              "      <td>[hilary swank, scott glenn, imelda staunton]</td>\n",
              "      <td>[richard lagravenese]</td>\n",
              "      <td>2007</td>\n",
              "      <td>7.545479</td>\n",
              "    </tr>\n",
              "    <tr>\n",
              "      <th>11542</th>\n",
              "      <td>0</td>\n",
              "      <td>0</td>\n",
              "      <td>2.000000e+07</td>\n",
              "      <td>[action, comedy, crime]</td>\n",
              "      <td>14396</td>\n",
              "      <td>Code Name: The Cleaner</td>\n",
              "      <td>[cedric, entertainer, play, jake, seemingly, r...</td>\n",
              "      <td>11.107148</td>\n",
              "      <td>10337477.0</td>\n",
              "      <td>84.0</td>\n",
              "      <td>[cedric the entertainer, lucy liu, nicollette ...</td>\n",
              "      <td>[les mayfield]</td>\n",
              "      <td>2007</td>\n",
              "      <td>4.795351</td>\n",
              "    </tr>\n",
              "    <tr>\n",
              "      <th>11543</th>\n",
              "      <td>0</td>\n",
              "      <td>160727</td>\n",
              "      <td>1.300000e+07</td>\n",
              "      <td>[drama, music]</td>\n",
              "      <td>1931</td>\n",
              "      <td>Stomp the Yard</td>\n",
              "      <td>[death, younger, brother, troubled, 19yearold,...</td>\n",
              "      <td>5.607508</td>\n",
              "      <td>75511123.0</td>\n",
              "      <td>114.0</td>\n",
              "      <td>[columbus short, meagan good, ne-yo]</td>\n",
              "      <td>[sylvain white]</td>\n",
              "      <td>2007</td>\n",
              "      <td>6.043909</td>\n",
              "    </tr>\n",
              "    <tr>\n",
              "      <th>11564</th>\n",
              "      <td>0</td>\n",
              "      <td>0</td>\n",
              "      <td>4.223284e+06</td>\n",
              "      <td>[adventure]</td>\n",
              "      <td>4283</td>\n",
              "      <td>Primeval</td>\n",
              "      <td>[news, team, sent, burundi, capture, bring, ho...</td>\n",
              "      <td>2.454709</td>\n",
              "      <td>10597734.0</td>\n",
              "      <td>93.0</td>\n",
              "      <td>[dominic purcell, brooke langton, orlando jones]</td>\n",
              "      <td>[michael katleman]</td>\n",
              "      <td>2007</td>\n",
              "      <td>4.852562</td>\n",
              "    </tr>\n",
              "  </tbody>\n",
              "</table>\n",
              "</div>\n",
              "      <button class=\"colab-df-convert\" onclick=\"convertToInteractive('df-08153946-cf76-4840-8e0c-4f93bd3ea38e')\"\n",
              "              title=\"Convert this dataframe to an interactive table.\"\n",
              "              style=\"display:none;\">\n",
              "        \n",
              "  <svg xmlns=\"http://www.w3.org/2000/svg\" height=\"24px\"viewBox=\"0 0 24 24\"\n",
              "       width=\"24px\">\n",
              "    <path d=\"M0 0h24v24H0V0z\" fill=\"none\"/>\n",
              "    <path d=\"M18.56 5.44l.94 2.06.94-2.06 2.06-.94-2.06-.94-.94-2.06-.94 2.06-2.06.94zm-11 1L8.5 8.5l.94-2.06 2.06-.94-2.06-.94L8.5 2.5l-.94 2.06-2.06.94zm10 10l.94 2.06.94-2.06 2.06-.94-2.06-.94-.94-2.06-.94 2.06-2.06.94z\"/><path d=\"M17.41 7.96l-1.37-1.37c-.4-.4-.92-.59-1.43-.59-.52 0-1.04.2-1.43.59L10.3 9.45l-7.72 7.72c-.78.78-.78 2.05 0 2.83L4 21.41c.39.39.9.59 1.41.59.51 0 1.02-.2 1.41-.59l7.78-7.78 2.81-2.81c.8-.78.8-2.07 0-2.86zM5.41 20L4 18.59l7.72-7.72 1.47 1.35L5.41 20z\"/>\n",
              "  </svg>\n",
              "      </button>\n",
              "      \n",
              "  <style>\n",
              "    .colab-df-container {\n",
              "      display:flex;\n",
              "      flex-wrap:wrap;\n",
              "      gap: 12px;\n",
              "    }\n",
              "\n",
              "    .colab-df-convert {\n",
              "      background-color: #E8F0FE;\n",
              "      border: none;\n",
              "      border-radius: 50%;\n",
              "      cursor: pointer;\n",
              "      display: none;\n",
              "      fill: #1967D2;\n",
              "      height: 32px;\n",
              "      padding: 0 0 0 0;\n",
              "      width: 32px;\n",
              "    }\n",
              "\n",
              "    .colab-df-convert:hover {\n",
              "      background-color: #E2EBFA;\n",
              "      box-shadow: 0px 1px 2px rgba(60, 64, 67, 0.3), 0px 1px 3px 1px rgba(60, 64, 67, 0.15);\n",
              "      fill: #174EA6;\n",
              "    }\n",
              "\n",
              "    [theme=dark] .colab-df-convert {\n",
              "      background-color: #3B4455;\n",
              "      fill: #D2E3FC;\n",
              "    }\n",
              "\n",
              "    [theme=dark] .colab-df-convert:hover {\n",
              "      background-color: #434B5C;\n",
              "      box-shadow: 0px 1px 3px 1px rgba(0, 0, 0, 0.15);\n",
              "      filter: drop-shadow(0px 1px 2px rgba(0, 0, 0, 0.3));\n",
              "      fill: #FFFFFF;\n",
              "    }\n",
              "  </style>\n",
              "\n",
              "      <script>\n",
              "        const buttonEl =\n",
              "          document.querySelector('#df-08153946-cf76-4840-8e0c-4f93bd3ea38e button.colab-df-convert');\n",
              "        buttonEl.style.display =\n",
              "          google.colab.kernel.accessAllowed ? 'block' : 'none';\n",
              "\n",
              "        async function convertToInteractive(key) {\n",
              "          const element = document.querySelector('#df-08153946-cf76-4840-8e0c-4f93bd3ea38e');\n",
              "          const dataTable =\n",
              "            await google.colab.kernel.invokeFunction('convertToInteractive',\n",
              "                                                     [key], {});\n",
              "          if (!dataTable) return;\n",
              "\n",
              "          const docLinkHtml = 'Like what you see? Visit the ' +\n",
              "            '<a target=\"_blank\" href=https://colab.research.google.com/notebooks/data_table.ipynb>data table notebook</a>'\n",
              "            + ' to learn more about interactive tables.';\n",
              "          element.innerHTML = '';\n",
              "          dataTable['output_type'] = 'display_data';\n",
              "          await google.colab.output.renderOutput(dataTable, element);\n",
              "          const docLink = document.createElement('div');\n",
              "          docLink.innerHTML = docLinkHtml;\n",
              "          element.appendChild(docLink);\n",
              "        }\n",
              "      </script>\n",
              "    </div>\n",
              "  </div>\n",
              "  "
            ],
            "text/plain": [
              "       adult  belongs_to_collection        budget                   genres  \\\n",
              "11194      0                      0  4.000000e+07       [adventure, drama]   \n",
              "11517      0                      0  2.100000e+07           [crime, drama]   \n",
              "11542      0                      0  2.000000e+07  [action, comedy, crime]   \n",
              "11543      0                 160727  1.300000e+07           [drama, music]   \n",
              "11564      0                      0  4.223284e+06              [adventure]   \n",
              "\n",
              "          id          original_title  \\\n",
              "11194  77221              Black Gold   \n",
              "11517   1646         Freedom Writers   \n",
              "11542  14396  Code Name: The Cleaner   \n",
              "11543   1931          Stomp the Yard   \n",
              "11564   4283                Primeval   \n",
              "\n",
              "                                                overview  popularity  \\\n",
              "11194  [arabian, peninsula, 1930s, two, warring, lead...    6.652197   \n",
              "11517  [young, teacher, inspires, class, atrisk, stud...   13.585233   \n",
              "11542  [cedric, entertainer, play, jake, seemingly, r...   11.107148   \n",
              "11543  [death, younger, brother, troubled, 19yearold,...    5.607508   \n",
              "11564  [news, team, sent, burundi, capture, bring, ho...    2.454709   \n",
              "\n",
              "          revenue  runtime                                               cast  \\\n",
              "11194   5446000.0    130.0      [mark strong, antonio banderas, freida pinto]   \n",
              "11517  41170784.0    123.0       [hilary swank, scott glenn, imelda staunton]   \n",
              "11542  10337477.0     84.0  [cedric the entertainer, lucy liu, nicollette ...   \n",
              "11543  75511123.0    114.0               [columbus short, meagan good, ne-yo]   \n",
              "11564  10597734.0     93.0   [dominic purcell, brooke langton, orlando jones]   \n",
              "\n",
              "                    director  year        wr  \n",
              "11194  [jean-jacques annaud]  2011  5.858516  \n",
              "11517  [richard lagravenese]  2007  7.545479  \n",
              "11542         [les mayfield]  2007  4.795351  \n",
              "11543        [sylvain white]  2007  6.043909  \n",
              "11564     [michael katleman]  2007  4.852562  "
            ]
          },
          "execution_count": 60,
          "metadata": {},
          "output_type": "execute_result"
        }
      ],
      "source": [
        "df.head()"
      ]
    },
    {
      "cell_type": "code",
      "execution_count": null,
      "metadata": {
        "id": "d-f4xiMrJ-ws"
      },
      "outputs": [],
      "source": [
        "# !wget http://nlp.stanford.edu/data/glove.6B.zip\n",
        "# !unzip -q glove.6B.zip"
      ]
    },
    {
      "cell_type": "markdown",
      "metadata": {
        "id": "v101goKeutv5"
      },
      "source": [
        "Converting text to Vectors using GLoVe"
      ]
    },
    {
      "cell_type": "code",
      "execution_count": 43,
      "metadata": {
        "colab": {
          "base_uri": "https://localhost:8080/"
        },
        "id": "tB1bzIIwJGwM",
        "outputId": "7eb28da4-2fbf-4d5e-b93e-64ae3a616e6b"
      },
      "outputs": [
        {
          "name": "stdout",
          "output_type": "stream",
          "text": [
            "Found 400000 word vectors.\n"
          ]
        }
      ],
      "source": [
        "path_to_glove_file = '/content/drive/MyDrive/Colab Notebooks/ee541/Project/Data/glove.6B.100d.txt'\n",
        "embeddings_index = {}\n",
        "\n",
        "with open(path_to_glove_file) as f:\n",
        "    for line in f:\n",
        "        word, coefs = line.split(maxsplit=1)\n",
        "        coefs = np.fromstring(coefs, \"f\", sep=\" \")\n",
        "        embeddings_index[word] = coefs\n",
        "\n",
        "print(\"Found %s word vectors.\" % len(embeddings_index))"
      ]
    },
    {
      "cell_type": "code",
      "execution_count": 61,
      "metadata": {
        "id": "XI2wl0UhNBbE"
      },
      "outputs": [],
      "source": [
        "df['overview'] = df['overview'].apply(lambda x: vect(x))"
      ]
    },
    {
      "cell_type": "code",
      "execution_count": 62,
      "metadata": {
        "id": "0LY2Xzh1VsvW"
      },
      "outputs": [],
      "source": [
        "df['genres'] = df['genres'].apply(lambda x: replace_Word(x))\n",
        "df['genres'] = df['genres'].apply(lambda x: vect(x))"
      ]
    },
    {
      "cell_type": "code",
      "execution_count": 63,
      "metadata": {
        "id": "B0bTpCRbVMjP"
      },
      "outputs": [],
      "source": [
        "df['director']=df['director'].apply(lambda x:split_name(x))"
      ]
    },
    {
      "cell_type": "code",
      "execution_count": 64,
      "metadata": {
        "id": "Kt5xjzhLgf4C"
      },
      "outputs": [],
      "source": [
        "df['director'] = df['director'].apply(lambda x: vect(x))"
      ]
    },
    {
      "cell_type": "code",
      "execution_count": 65,
      "metadata": {
        "id": "JhwSbMYxg2g_"
      },
      "outputs": [],
      "source": [
        "df['cast'] = df['cast'].apply(lambda x:split_name(x))\n",
        "df['cast']= df['cast'].apply(lambda x: vect(x))"
      ]
    },
    {
      "cell_type": "code",
      "execution_count": 66,
      "metadata": {
        "colab": {
          "base_uri": "https://localhost:8080/",
          "height": 444
        },
        "id": "pjehVb9aSP6_",
        "outputId": "f552c193-4e62-4aa1-f6ae-fad4dd3d9e7f"
      },
      "outputs": [
        {
          "data": {
            "text/html": [
              "\n",
              "  <div id=\"df-42f92d95-bb9b-4871-9475-6756141ab83d\">\n",
              "    <div class=\"colab-df-container\">\n",
              "      <div>\n",
              "<style scoped>\n",
              "    .dataframe tbody tr th:only-of-type {\n",
              "        vertical-align: middle;\n",
              "    }\n",
              "\n",
              "    .dataframe tbody tr th {\n",
              "        vertical-align: top;\n",
              "    }\n",
              "\n",
              "    .dataframe thead th {\n",
              "        text-align: right;\n",
              "    }\n",
              "</style>\n",
              "<table border=\"1\" class=\"dataframe\">\n",
              "  <thead>\n",
              "    <tr style=\"text-align: right;\">\n",
              "      <th></th>\n",
              "      <th>adult</th>\n",
              "      <th>belongs_to_collection</th>\n",
              "      <th>budget</th>\n",
              "      <th>genres</th>\n",
              "      <th>id</th>\n",
              "      <th>original_title</th>\n",
              "      <th>overview</th>\n",
              "      <th>popularity</th>\n",
              "      <th>revenue</th>\n",
              "      <th>runtime</th>\n",
              "      <th>cast</th>\n",
              "      <th>director</th>\n",
              "      <th>year</th>\n",
              "      <th>wr</th>\n",
              "    </tr>\n",
              "  </thead>\n",
              "  <tbody>\n",
              "    <tr>\n",
              "      <th>11194</th>\n",
              "      <td>0</td>\n",
              "      <td>0</td>\n",
              "      <td>4.000000e+07</td>\n",
              "      <td>[0.05125001072883606, 0.1583399996161461, 0.35...</td>\n",
              "      <td>77221</td>\n",
              "      <td>Black Gold</td>\n",
              "      <td>[-0.010660814345241167, 0.1596413238439709, 0....</td>\n",
              "      <td>6.652197</td>\n",
              "      <td>5446000.0</td>\n",
              "      <td>130.0</td>\n",
              "      <td>[0.2850535021473964, -0.08414500206708908, -0....</td>\n",
              "      <td>[0.3196450024843216, -0.10356049798429012, -0....</td>\n",
              "      <td>2011</td>\n",
              "      <td>5.858516</td>\n",
              "    </tr>\n",
              "    <tr>\n",
              "      <th>11517</th>\n",
              "      <td>0</td>\n",
              "      <td>0</td>\n",
              "      <td>2.100000e+07</td>\n",
              "      <td>[0.38124001026153564, -0.04122999310493469, 0....</td>\n",
              "      <td>1646</td>\n",
              "      <td>Freedom Writers</td>\n",
              "      <td>[0.3287661432155541, 0.4203878555979047, -0.11...</td>\n",
              "      <td>13.585233</td>\n",
              "      <td>41170784.0</td>\n",
              "      <td>123.0</td>\n",
              "      <td>[-0.0871676579117775, 0.015092335641384125, 0....</td>\n",
              "      <td>[-0.16906149685382843, -0.024535000324249268, ...</td>\n",
              "      <td>2007</td>\n",
              "      <td>7.545479</td>\n",
              "    </tr>\n",
              "    <tr>\n",
              "      <th>11542</th>\n",
              "      <td>0</td>\n",
              "      <td>0</td>\n",
              "      <td>2.000000e+07</td>\n",
              "      <td>[0.25511667629082996, -0.1865606630841891, 0.1...</td>\n",
              "      <td>14396</td>\n",
              "      <td>Code Name: The Cleaner</td>\n",
              "      <td>[0.1028693187981844, -0.17349857176569375, 0.3...</td>\n",
              "      <td>11.107148</td>\n",
              "      <td>10337477.0</td>\n",
              "      <td>84.0</td>\n",
              "      <td>[0.027088857655014308, -0.2822154281394822, 0....</td>\n",
              "      <td>[0.4210199937224388, -0.4264250099658966, -0.1...</td>\n",
              "      <td>2007</td>\n",
              "      <td>4.795351</td>\n",
              "    </tr>\n",
              "    <tr>\n",
              "      <th>11543</th>\n",
              "      <td>0</td>\n",
              "      <td>160727</td>\n",
              "      <td>1.300000e+07</td>\n",
              "      <td>[0.271525003015995, 0.27035000920295715, 0.263...</td>\n",
              "      <td>1931</td>\n",
              "      <td>Stomp the Yard</td>\n",
              "      <td>[0.1287028950587329, 0.17493366599082946, 0.11...</td>\n",
              "      <td>5.607508</td>\n",
              "      <td>75511123.0</td>\n",
              "      <td>114.0</td>\n",
              "      <td>[-0.006006798520684243, -0.18687740452587606, ...</td>\n",
              "      <td>[0.2157049924135208, 0.003040000796318054, 0.2...</td>\n",
              "      <td>2007</td>\n",
              "      <td>6.043909</td>\n",
              "    </tr>\n",
              "    <tr>\n",
              "      <th>11564</th>\n",
              "      <td>0</td>\n",
              "      <td>0</td>\n",
              "      <td>4.223284e+06</td>\n",
              "      <td>[-0.31349998712539673, 0.14850999414920807, 0....</td>\n",
              "      <td>4283</td>\n",
              "      <td>Primeval</td>\n",
              "      <td>[-0.22376884010413453, 0.0019558901484641763, ...</td>\n",
              "      <td>2.454709</td>\n",
              "      <td>10597734.0</td>\n",
              "      <td>93.0</td>\n",
              "      <td>[0.03160366974771023, -0.1400711651270588, -0....</td>\n",
              "      <td>[0.148485004901886, 0.06669499725103378, 0.095...</td>\n",
              "      <td>2007</td>\n",
              "      <td>4.852562</td>\n",
              "    </tr>\n",
              "  </tbody>\n",
              "</table>\n",
              "</div>\n",
              "      <button class=\"colab-df-convert\" onclick=\"convertToInteractive('df-42f92d95-bb9b-4871-9475-6756141ab83d')\"\n",
              "              title=\"Convert this dataframe to an interactive table.\"\n",
              "              style=\"display:none;\">\n",
              "        \n",
              "  <svg xmlns=\"http://www.w3.org/2000/svg\" height=\"24px\"viewBox=\"0 0 24 24\"\n",
              "       width=\"24px\">\n",
              "    <path d=\"M0 0h24v24H0V0z\" fill=\"none\"/>\n",
              "    <path d=\"M18.56 5.44l.94 2.06.94-2.06 2.06-.94-2.06-.94-.94-2.06-.94 2.06-2.06.94zm-11 1L8.5 8.5l.94-2.06 2.06-.94-2.06-.94L8.5 2.5l-.94 2.06-2.06.94zm10 10l.94 2.06.94-2.06 2.06-.94-2.06-.94-.94-2.06-.94 2.06-2.06.94z\"/><path d=\"M17.41 7.96l-1.37-1.37c-.4-.4-.92-.59-1.43-.59-.52 0-1.04.2-1.43.59L10.3 9.45l-7.72 7.72c-.78.78-.78 2.05 0 2.83L4 21.41c.39.39.9.59 1.41.59.51 0 1.02-.2 1.41-.59l7.78-7.78 2.81-2.81c.8-.78.8-2.07 0-2.86zM5.41 20L4 18.59l7.72-7.72 1.47 1.35L5.41 20z\"/>\n",
              "  </svg>\n",
              "      </button>\n",
              "      \n",
              "  <style>\n",
              "    .colab-df-container {\n",
              "      display:flex;\n",
              "      flex-wrap:wrap;\n",
              "      gap: 12px;\n",
              "    }\n",
              "\n",
              "    .colab-df-convert {\n",
              "      background-color: #E8F0FE;\n",
              "      border: none;\n",
              "      border-radius: 50%;\n",
              "      cursor: pointer;\n",
              "      display: none;\n",
              "      fill: #1967D2;\n",
              "      height: 32px;\n",
              "      padding: 0 0 0 0;\n",
              "      width: 32px;\n",
              "    }\n",
              "\n",
              "    .colab-df-convert:hover {\n",
              "      background-color: #E2EBFA;\n",
              "      box-shadow: 0px 1px 2px rgba(60, 64, 67, 0.3), 0px 1px 3px 1px rgba(60, 64, 67, 0.15);\n",
              "      fill: #174EA6;\n",
              "    }\n",
              "\n",
              "    [theme=dark] .colab-df-convert {\n",
              "      background-color: #3B4455;\n",
              "      fill: #D2E3FC;\n",
              "    }\n",
              "\n",
              "    [theme=dark] .colab-df-convert:hover {\n",
              "      background-color: #434B5C;\n",
              "      box-shadow: 0px 1px 3px 1px rgba(0, 0, 0, 0.15);\n",
              "      filter: drop-shadow(0px 1px 2px rgba(0, 0, 0, 0.3));\n",
              "      fill: #FFFFFF;\n",
              "    }\n",
              "  </style>\n",
              "\n",
              "      <script>\n",
              "        const buttonEl =\n",
              "          document.querySelector('#df-42f92d95-bb9b-4871-9475-6756141ab83d button.colab-df-convert');\n",
              "        buttonEl.style.display =\n",
              "          google.colab.kernel.accessAllowed ? 'block' : 'none';\n",
              "\n",
              "        async function convertToInteractive(key) {\n",
              "          const element = document.querySelector('#df-42f92d95-bb9b-4871-9475-6756141ab83d');\n",
              "          const dataTable =\n",
              "            await google.colab.kernel.invokeFunction('convertToInteractive',\n",
              "                                                     [key], {});\n",
              "          if (!dataTable) return;\n",
              "\n",
              "          const docLinkHtml = 'Like what you see? Visit the ' +\n",
              "            '<a target=\"_blank\" href=https://colab.research.google.com/notebooks/data_table.ipynb>data table notebook</a>'\n",
              "            + ' to learn more about interactive tables.';\n",
              "          element.innerHTML = '';\n",
              "          dataTable['output_type'] = 'display_data';\n",
              "          await google.colab.output.renderOutput(dataTable, element);\n",
              "          const docLink = document.createElement('div');\n",
              "          docLink.innerHTML = docLinkHtml;\n",
              "          element.appendChild(docLink);\n",
              "        }\n",
              "      </script>\n",
              "    </div>\n",
              "  </div>\n",
              "  "
            ],
            "text/plain": [
              "       adult  belongs_to_collection        budget  \\\n",
              "11194      0                      0  4.000000e+07   \n",
              "11517      0                      0  2.100000e+07   \n",
              "11542      0                      0  2.000000e+07   \n",
              "11543      0                 160727  1.300000e+07   \n",
              "11564      0                      0  4.223284e+06   \n",
              "\n",
              "                                                  genres     id  \\\n",
              "11194  [0.05125001072883606, 0.1583399996161461, 0.35...  77221   \n",
              "11517  [0.38124001026153564, -0.04122999310493469, 0....   1646   \n",
              "11542  [0.25511667629082996, -0.1865606630841891, 0.1...  14396   \n",
              "11543  [0.271525003015995, 0.27035000920295715, 0.263...   1931   \n",
              "11564  [-0.31349998712539673, 0.14850999414920807, 0....   4283   \n",
              "\n",
              "               original_title  \\\n",
              "11194              Black Gold   \n",
              "11517         Freedom Writers   \n",
              "11542  Code Name: The Cleaner   \n",
              "11543          Stomp the Yard   \n",
              "11564                Primeval   \n",
              "\n",
              "                                                overview  popularity  \\\n",
              "11194  [-0.010660814345241167, 0.1596413238439709, 0....    6.652197   \n",
              "11517  [0.3287661432155541, 0.4203878555979047, -0.11...   13.585233   \n",
              "11542  [0.1028693187981844, -0.17349857176569375, 0.3...   11.107148   \n",
              "11543  [0.1287028950587329, 0.17493366599082946, 0.11...    5.607508   \n",
              "11564  [-0.22376884010413453, 0.0019558901484641763, ...    2.454709   \n",
              "\n",
              "          revenue  runtime                                               cast  \\\n",
              "11194   5446000.0    130.0  [0.2850535021473964, -0.08414500206708908, -0....   \n",
              "11517  41170784.0    123.0  [-0.0871676579117775, 0.015092335641384125, 0....   \n",
              "11542  10337477.0     84.0  [0.027088857655014308, -0.2822154281394822, 0....   \n",
              "11543  75511123.0    114.0  [-0.006006798520684243, -0.18687740452587606, ...   \n",
              "11564  10597734.0     93.0  [0.03160366974771023, -0.1400711651270588, -0....   \n",
              "\n",
              "                                                director  year        wr  \n",
              "11194  [0.3196450024843216, -0.10356049798429012, -0....  2011  5.858516  \n",
              "11517  [-0.16906149685382843, -0.024535000324249268, ...  2007  7.545479  \n",
              "11542  [0.4210199937224388, -0.4264250099658966, -0.1...  2007  4.795351  \n",
              "11543  [0.2157049924135208, 0.003040000796318054, 0.2...  2007  6.043909  \n",
              "11564  [0.148485004901886, 0.06669499725103378, 0.095...  2007  4.852562  "
            ]
          },
          "execution_count": 66,
          "metadata": {},
          "output_type": "execute_result"
        }
      ],
      "source": [
        "df.head()"
      ]
    },
    {
      "cell_type": "markdown",
      "metadata": {
        "id": "jL4EcbnHvvSY"
      },
      "source": [
        "Normalising the data"
      ]
    },
    {
      "cell_type": "code",
      "execution_count": 67,
      "metadata": {
        "id": "SzKeBxcxK5VE"
      },
      "outputs": [],
      "source": [
        "normalized_df = df.copy()"
      ]
    },
    {
      "cell_type": "code",
      "execution_count": 68,
      "metadata": {
        "id": "xnho_wNBK8c0"
      },
      "outputs": [],
      "source": [
        "m = max(normalized_df['belongs_to_collection'])\n",
        "normalized_df['belongs_to_collection'] = normalized_df['belongs_to_collection'].apply(lambda x: x/m)"
      ]
    },
    {
      "cell_type": "code",
      "execution_count": 69,
      "metadata": {
        "id": "E4S1UnXeLc2F"
      },
      "outputs": [],
      "source": [
        "m = max(normalized_df['budget'])\n",
        "normalized_df['budget'] = normalized_df['budget'].apply(lambda x: x/m)"
      ]
    },
    {
      "cell_type": "code",
      "execution_count": 70,
      "metadata": {
        "id": "knXbBFpfLlAB"
      },
      "outputs": [],
      "source": [
        "normalized_df['popularity']=normalized_df['popularity'].astype(float)\n",
        "m = max(normalized_df['popularity'])\n",
        "normalized_df['popularity'] = normalized_df['popularity'].apply(lambda x: x/m)"
      ]
    },
    {
      "cell_type": "code",
      "execution_count": 71,
      "metadata": {
        "id": "yNElNfRWL7ws"
      },
      "outputs": [],
      "source": [
        "m = max(normalized_df['revenue'])\n",
        "normalized_df['revenue'] = normalized_df['revenue'].apply(lambda x: x/m)"
      ]
    },
    {
      "cell_type": "code",
      "execution_count": 72,
      "metadata": {
        "id": "BjDCMRY5MEDt"
      },
      "outputs": [],
      "source": [
        "m = max(normalized_df['runtime'])\n",
        "normalized_df['runtime'] = normalized_df['runtime'].apply(lambda x: x/m)"
      ]
    },
    {
      "cell_type": "code",
      "execution_count": 73,
      "metadata": {
        "id": "QcEvXISaMEL9"
      },
      "outputs": [],
      "source": [
        "m = max(normalized_df['year'])\n",
        "normalized_df['year'] = normalized_df['year'].apply(lambda x: x/m)"
      ]
    },
    {
      "cell_type": "code",
      "execution_count": 74,
      "metadata": {
        "id": "sFjUPd8jMSHl"
      },
      "outputs": [],
      "source": [
        "m = max(normalized_df['wr'])\n",
        "normalized_df['wr'] = normalized_df['wr'].apply(lambda x: x/m)"
      ]
    },
    {
      "cell_type": "code",
      "execution_count": 75,
      "metadata": {
        "colab": {
          "base_uri": "https://localhost:8080/",
          "height": 444
        },
        "id": "t-mddK8iLRHk",
        "outputId": "6133f076-efbd-4f64-89a6-f394e8cdecb7"
      },
      "outputs": [
        {
          "data": {
            "text/html": [
              "\n",
              "  <div id=\"df-3bf8349b-dbb5-43b1-9c50-59e56379fe0d\">\n",
              "    <div class=\"colab-df-container\">\n",
              "      <div>\n",
              "<style scoped>\n",
              "    .dataframe tbody tr th:only-of-type {\n",
              "        vertical-align: middle;\n",
              "    }\n",
              "\n",
              "    .dataframe tbody tr th {\n",
              "        vertical-align: top;\n",
              "    }\n",
              "\n",
              "    .dataframe thead th {\n",
              "        text-align: right;\n",
              "    }\n",
              "</style>\n",
              "<table border=\"1\" class=\"dataframe\">\n",
              "  <thead>\n",
              "    <tr style=\"text-align: right;\">\n",
              "      <th></th>\n",
              "      <th>adult</th>\n",
              "      <th>belongs_to_collection</th>\n",
              "      <th>budget</th>\n",
              "      <th>genres</th>\n",
              "      <th>id</th>\n",
              "      <th>original_title</th>\n",
              "      <th>overview</th>\n",
              "      <th>popularity</th>\n",
              "      <th>revenue</th>\n",
              "      <th>runtime</th>\n",
              "      <th>cast</th>\n",
              "      <th>director</th>\n",
              "      <th>year</th>\n",
              "      <th>wr</th>\n",
              "    </tr>\n",
              "  </thead>\n",
              "  <tbody>\n",
              "    <tr>\n",
              "      <th>11194</th>\n",
              "      <td>0</td>\n",
              "      <td>0.000000</td>\n",
              "      <td>0.105263</td>\n",
              "      <td>[0.05125001072883606, 0.1583399996161461, 0.35...</td>\n",
              "      <td>77221</td>\n",
              "      <td>Black Gold</td>\n",
              "      <td>[-0.010660814345241167, 0.1596413238439709, 0....</td>\n",
              "      <td>0.012150</td>\n",
              "      <td>0.001953</td>\n",
              "      <td>0.144444</td>\n",
              "      <td>[0.2850535021473964, -0.08414500206708908, -0....</td>\n",
              "      <td>[0.3196450024843216, -0.10356049798429012, -0....</td>\n",
              "      <td>0.997025</td>\n",
              "      <td>0.706037</td>\n",
              "    </tr>\n",
              "    <tr>\n",
              "      <th>11517</th>\n",
              "      <td>0</td>\n",
              "      <td>0.000000</td>\n",
              "      <td>0.055263</td>\n",
              "      <td>[0.38124001026153564, -0.04122999310493469, 0....</td>\n",
              "      <td>1646</td>\n",
              "      <td>Freedom Writers</td>\n",
              "      <td>[0.3287661432155541, 0.4203878555979047, -0.11...</td>\n",
              "      <td>0.024814</td>\n",
              "      <td>0.014767</td>\n",
              "      <td>0.136667</td>\n",
              "      <td>[-0.0871676579117775, 0.015092335641384125, 0....</td>\n",
              "      <td>[-0.16906149685382843, -0.024535000324249268, ...</td>\n",
              "      <td>0.995042</td>\n",
              "      <td>0.909340</td>\n",
              "    </tr>\n",
              "    <tr>\n",
              "      <th>11542</th>\n",
              "      <td>0</td>\n",
              "      <td>0.000000</td>\n",
              "      <td>0.052632</td>\n",
              "      <td>[0.25511667629082996, -0.1865606630841891, 0.1...</td>\n",
              "      <td>14396</td>\n",
              "      <td>Code Name: The Cleaner</td>\n",
              "      <td>[0.1028693187981844, -0.17349857176569375, 0.3...</td>\n",
              "      <td>0.020287</td>\n",
              "      <td>0.003708</td>\n",
              "      <td>0.093333</td>\n",
              "      <td>[0.027088857655014308, -0.2822154281394822, 0....</td>\n",
              "      <td>[0.4210199937224388, -0.4264250099658966, -0.1...</td>\n",
              "      <td>0.995042</td>\n",
              "      <td>0.577910</td>\n",
              "    </tr>\n",
              "    <tr>\n",
              "      <th>11543</th>\n",
              "      <td>0</td>\n",
              "      <td>0.334736</td>\n",
              "      <td>0.034211</td>\n",
              "      <td>[0.271525003015995, 0.27035000920295715, 0.263...</td>\n",
              "      <td>1931</td>\n",
              "      <td>Stomp the Yard</td>\n",
              "      <td>[0.1287028950587329, 0.17493366599082946, 0.11...</td>\n",
              "      <td>0.010242</td>\n",
              "      <td>0.027085</td>\n",
              "      <td>0.126667</td>\n",
              "      <td>[-0.006006798520684243, -0.18687740452587606, ...</td>\n",
              "      <td>[0.2157049924135208, 0.003040000796318054, 0.2...</td>\n",
              "      <td>0.995042</td>\n",
              "      <td>0.728379</td>\n",
              "    </tr>\n",
              "    <tr>\n",
              "      <th>11564</th>\n",
              "      <td>0</td>\n",
              "      <td>0.000000</td>\n",
              "      <td>0.011114</td>\n",
              "      <td>[-0.31349998712539673, 0.14850999414920807, 0....</td>\n",
              "      <td>4283</td>\n",
              "      <td>Primeval</td>\n",
              "      <td>[-0.22376884010413453, 0.0019558901484641763, ...</td>\n",
              "      <td>0.004484</td>\n",
              "      <td>0.003801</td>\n",
              "      <td>0.103333</td>\n",
              "      <td>[0.03160366974771023, -0.1400711651270588, -0....</td>\n",
              "      <td>[0.148485004901886, 0.06669499725103378, 0.095...</td>\n",
              "      <td>0.995042</td>\n",
              "      <td>0.584804</td>\n",
              "    </tr>\n",
              "  </tbody>\n",
              "</table>\n",
              "</div>\n",
              "      <button class=\"colab-df-convert\" onclick=\"convertToInteractive('df-3bf8349b-dbb5-43b1-9c50-59e56379fe0d')\"\n",
              "              title=\"Convert this dataframe to an interactive table.\"\n",
              "              style=\"display:none;\">\n",
              "        \n",
              "  <svg xmlns=\"http://www.w3.org/2000/svg\" height=\"24px\"viewBox=\"0 0 24 24\"\n",
              "       width=\"24px\">\n",
              "    <path d=\"M0 0h24v24H0V0z\" fill=\"none\"/>\n",
              "    <path d=\"M18.56 5.44l.94 2.06.94-2.06 2.06-.94-2.06-.94-.94-2.06-.94 2.06-2.06.94zm-11 1L8.5 8.5l.94-2.06 2.06-.94-2.06-.94L8.5 2.5l-.94 2.06-2.06.94zm10 10l.94 2.06.94-2.06 2.06-.94-2.06-.94-.94-2.06-.94 2.06-2.06.94z\"/><path d=\"M17.41 7.96l-1.37-1.37c-.4-.4-.92-.59-1.43-.59-.52 0-1.04.2-1.43.59L10.3 9.45l-7.72 7.72c-.78.78-.78 2.05 0 2.83L4 21.41c.39.39.9.59 1.41.59.51 0 1.02-.2 1.41-.59l7.78-7.78 2.81-2.81c.8-.78.8-2.07 0-2.86zM5.41 20L4 18.59l7.72-7.72 1.47 1.35L5.41 20z\"/>\n",
              "  </svg>\n",
              "      </button>\n",
              "      \n",
              "  <style>\n",
              "    .colab-df-container {\n",
              "      display:flex;\n",
              "      flex-wrap:wrap;\n",
              "      gap: 12px;\n",
              "    }\n",
              "\n",
              "    .colab-df-convert {\n",
              "      background-color: #E8F0FE;\n",
              "      border: none;\n",
              "      border-radius: 50%;\n",
              "      cursor: pointer;\n",
              "      display: none;\n",
              "      fill: #1967D2;\n",
              "      height: 32px;\n",
              "      padding: 0 0 0 0;\n",
              "      width: 32px;\n",
              "    }\n",
              "\n",
              "    .colab-df-convert:hover {\n",
              "      background-color: #E2EBFA;\n",
              "      box-shadow: 0px 1px 2px rgba(60, 64, 67, 0.3), 0px 1px 3px 1px rgba(60, 64, 67, 0.15);\n",
              "      fill: #174EA6;\n",
              "    }\n",
              "\n",
              "    [theme=dark] .colab-df-convert {\n",
              "      background-color: #3B4455;\n",
              "      fill: #D2E3FC;\n",
              "    }\n",
              "\n",
              "    [theme=dark] .colab-df-convert:hover {\n",
              "      background-color: #434B5C;\n",
              "      box-shadow: 0px 1px 3px 1px rgba(0, 0, 0, 0.15);\n",
              "      filter: drop-shadow(0px 1px 2px rgba(0, 0, 0, 0.3));\n",
              "      fill: #FFFFFF;\n",
              "    }\n",
              "  </style>\n",
              "\n",
              "      <script>\n",
              "        const buttonEl =\n",
              "          document.querySelector('#df-3bf8349b-dbb5-43b1-9c50-59e56379fe0d button.colab-df-convert');\n",
              "        buttonEl.style.display =\n",
              "          google.colab.kernel.accessAllowed ? 'block' : 'none';\n",
              "\n",
              "        async function convertToInteractive(key) {\n",
              "          const element = document.querySelector('#df-3bf8349b-dbb5-43b1-9c50-59e56379fe0d');\n",
              "          const dataTable =\n",
              "            await google.colab.kernel.invokeFunction('convertToInteractive',\n",
              "                                                     [key], {});\n",
              "          if (!dataTable) return;\n",
              "\n",
              "          const docLinkHtml = 'Like what you see? Visit the ' +\n",
              "            '<a target=\"_blank\" href=https://colab.research.google.com/notebooks/data_table.ipynb>data table notebook</a>'\n",
              "            + ' to learn more about interactive tables.';\n",
              "          element.innerHTML = '';\n",
              "          dataTable['output_type'] = 'display_data';\n",
              "          await google.colab.output.renderOutput(dataTable, element);\n",
              "          const docLink = document.createElement('div');\n",
              "          docLink.innerHTML = docLinkHtml;\n",
              "          element.appendChild(docLink);\n",
              "        }\n",
              "      </script>\n",
              "    </div>\n",
              "  </div>\n",
              "  "
            ],
            "text/plain": [
              "       adult  belongs_to_collection    budget  \\\n",
              "11194      0               0.000000  0.105263   \n",
              "11517      0               0.000000  0.055263   \n",
              "11542      0               0.000000  0.052632   \n",
              "11543      0               0.334736  0.034211   \n",
              "11564      0               0.000000  0.011114   \n",
              "\n",
              "                                                  genres     id  \\\n",
              "11194  [0.05125001072883606, 0.1583399996161461, 0.35...  77221   \n",
              "11517  [0.38124001026153564, -0.04122999310493469, 0....   1646   \n",
              "11542  [0.25511667629082996, -0.1865606630841891, 0.1...  14396   \n",
              "11543  [0.271525003015995, 0.27035000920295715, 0.263...   1931   \n",
              "11564  [-0.31349998712539673, 0.14850999414920807, 0....   4283   \n",
              "\n",
              "               original_title  \\\n",
              "11194              Black Gold   \n",
              "11517         Freedom Writers   \n",
              "11542  Code Name: The Cleaner   \n",
              "11543          Stomp the Yard   \n",
              "11564                Primeval   \n",
              "\n",
              "                                                overview  popularity  \\\n",
              "11194  [-0.010660814345241167, 0.1596413238439709, 0....    0.012150   \n",
              "11517  [0.3287661432155541, 0.4203878555979047, -0.11...    0.024814   \n",
              "11542  [0.1028693187981844, -0.17349857176569375, 0.3...    0.020287   \n",
              "11543  [0.1287028950587329, 0.17493366599082946, 0.11...    0.010242   \n",
              "11564  [-0.22376884010413453, 0.0019558901484641763, ...    0.004484   \n",
              "\n",
              "        revenue   runtime                                               cast  \\\n",
              "11194  0.001953  0.144444  [0.2850535021473964, -0.08414500206708908, -0....   \n",
              "11517  0.014767  0.136667  [-0.0871676579117775, 0.015092335641384125, 0....   \n",
              "11542  0.003708  0.093333  [0.027088857655014308, -0.2822154281394822, 0....   \n",
              "11543  0.027085  0.126667  [-0.006006798520684243, -0.18687740452587606, ...   \n",
              "11564  0.003801  0.103333  [0.03160366974771023, -0.1400711651270588, -0....   \n",
              "\n",
              "                                                director      year        wr  \n",
              "11194  [0.3196450024843216, -0.10356049798429012, -0....  0.997025  0.706037  \n",
              "11517  [-0.16906149685382843, -0.024535000324249268, ...  0.995042  0.909340  \n",
              "11542  [0.4210199937224388, -0.4264250099658966, -0.1...  0.995042  0.577910  \n",
              "11543  [0.2157049924135208, 0.003040000796318054, 0.2...  0.995042  0.728379  \n",
              "11564  [0.148485004901886, 0.06669499725103378, 0.095...  0.995042  0.584804  "
            ]
          },
          "execution_count": 75,
          "metadata": {},
          "output_type": "execute_result"
        }
      ],
      "source": [
        "normalized_df.head()"
      ]
    },
    {
      "cell_type": "code",
      "execution_count": 76,
      "metadata": {
        "colab": {
          "base_uri": "https://localhost:8080/"
        },
        "id": "J28n1psUYnUh",
        "outputId": "7bc3380b-5e19-42cc-e446-3658f0847b03"
      },
      "outputs": [
        {
          "data": {
            "text/plain": [
              "(6716, 14)"
            ]
          },
          "execution_count": 76,
          "metadata": {},
          "output_type": "execute_result"
        }
      ],
      "source": [
        "normalized_df.shape"
      ]
    },
    {
      "cell_type": "code",
      "execution_count": 77,
      "metadata": {
        "id": "FsWSjJF1MpiF"
      },
      "outputs": [],
      "source": [
        "id = normalized_df['id']\n",
        "title = normalized_df['original_title']\n",
        "id = id.to_numpy()\n",
        "title = title.to_numpy()\n",
        "normalized_df = normalized_df.drop(['id','original_title'], axis=1)"
      ]
    },
    {
      "cell_type": "code",
      "execution_count": 78,
      "metadata": {
        "id": "ylLzC3gzM0Ib"
      },
      "outputs": [],
      "source": [
        "X = normalized_df.to_numpy()"
      ]
    },
    {
      "cell_type": "code",
      "execution_count": 79,
      "metadata": {
        "colab": {
          "base_uri": "https://localhost:8080/"
        },
        "id": "5mmIUhq-NOdM",
        "outputId": "f9a8fb48-4e80-425b-f47d-c922b7de2806"
      },
      "outputs": [
        {
          "data": {
            "text/plain": [
              "((6716, 12), (12,))"
            ]
          },
          "execution_count": 79,
          "metadata": {},
          "output_type": "execute_result"
        }
      ],
      "source": [
        "X.shape, X[0].shape"
      ]
    },
    {
      "cell_type": "code",
      "execution_count": 80,
      "metadata": {
        "id": "6APzHubVNWWi"
      },
      "outputs": [],
      "source": [
        "K = np.zeros((6716,409))\n",
        "for i in range(6716):\n",
        "  K[i][0] = X[i][0]\n",
        "  K[i][1] = X[i][1]\n",
        "  K[i][2] = X[i][2]\n",
        "\n",
        "  n = X[i][3].flatten()\n",
        "  for j in range(100):\n",
        "    K[i][3+j] = n[j]\n",
        "  \n",
        "  n = X[i][4].flatten()\n",
        "  for j in range(100):\n",
        "    K[i][103+j] = n[j]\n",
        "\n",
        "  K[i][203] = X[i][5]\n",
        "  K[i][204] = X[i][6]\n",
        "  K[i][205] = X[i][7]\n",
        "\n",
        "  n = X[i][8].flatten()\n",
        "  for j in range(100):\n",
        "    K[i][206+j] = n[j]\n",
        "  \n",
        "  n = X[i][9].flatten()\n",
        "  for j in range(100):\n",
        "    K[i][306+j] = n[j]\n",
        "  \n",
        "  K[i][407] = X[i][10]\n",
        "  K[i][408] = X[i][11]"
      ]
    },
    {
      "cell_type": "code",
      "execution_count": 82,
      "metadata": {
        "id": "DYWvtwwWNrez"
      },
      "outputs": [],
      "source": [
        "import h5py\n",
        "with h5py.File(\"movies_data.hd5\", 'w') as hf: \n",
        "  hf.create_dataset('metadata', data=K)\n",
        "  hf.create_dataset('id', data=id)\n",
        "  hf.create_dataset('title', data=title)"
      ]
    }
  ],
  "metadata": {
    "colab": {
      "provenance": []
    },
    "gpuClass": "standard",
    "kernelspec": {
      "display_name": "Python 3",
      "language": "python",
      "name": "python3"
    },
    "language_info": {
      "name": "python",
      "version": "3.10.1 (tags/v3.10.1:2cd268a, Dec  6 2021, 19:10:37) [MSC v.1929 64 bit (AMD64)]"
    },
    "vscode": {
      "interpreter": {
        "hash": "369f2c481f4da34e4445cda3fffd2e751bd1c4d706f27375911949ba6bb62e1c"
      }
    }
  },
  "nbformat": 4,
  "nbformat_minor": 0
}
