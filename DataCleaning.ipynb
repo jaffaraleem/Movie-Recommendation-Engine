{
  "nbformat": 4,
  "nbformat_minor": 0,
  "metadata": {
    "colab": {
      "provenance": []
    },
    "kernelspec": {
      "name": "python3",
      "display_name": "Python 3"
    },
    "language_info": {
      "name": "python"
    },
    "accelerator": "GPU",
    "gpuClass": "standard"
  },
  "cells": [
    {
      "cell_type": "code",
      "execution_count": 24,
      "metadata": {
        "id": "BOOROIsC5bzj"
      },
      "outputs": [],
      "source": [
        "#Import necessary libraries\n",
        "import pandas as pd\n",
        "import numpy as np\n",
        "from ast import literal_eval\n",
        "\n",
        "#Libraries for text preprocessing\n",
        "import string \n",
        "import nltk \n",
        "from nltk.stem import WordNetLemmatizer"
      ]
    },
    {
      "cell_type": "code",
      "source": [
        "#Helper functions\n",
        "def get_director(x):\n",
        "    for i in x:\n",
        "        if i['job'] == 'Director':\n",
        "            return i['name']\n",
        "    return np.nan\n",
        "\n",
        "def empty_cells_in_column(df):\n",
        "  for cols in df:\n",
        "    x = df[cols].isnull().value_counts()\n",
        "    print(x)\n",
        "\n",
        "def remove_punctuation(text):\n",
        "  punctuationfree=\"\".join([i for i in text if i not in string.punctuation])\n",
        "  return punctuationfree\n",
        "\n",
        "def remove_stopwords(text):\n",
        "    output= [i for i in text if i not in stopwords]\n",
        "    return output\n",
        "\n",
        "wordnet_lemmatizer = WordNetLemmatizer()\n",
        "def lemmatizer(text):\n",
        "  lemm_text = [wordnet_lemmatizer.lemmatize(word) for word in text]\n",
        "  return lemm_text"
      ],
      "metadata": {
        "id": "mWrUdhVG8jkj"
      },
      "execution_count": 41,
      "outputs": []
    },
    {
      "cell_type": "code",
      "source": [
        "#Data file paths\n",
        "METADATA_PATH = '/content/drive/MyDrive/Colab Notebooks/ee541/Project/Data/movies_metadata.csv'\n",
        "CREDITS_PATH = '/content/drive/MyDrive/Colab Notebooks/ee541/Project/Data/credits.csv'"
      ],
      "metadata": {
        "id": "p73AdPcj6Guv"
      },
      "execution_count": 3,
      "outputs": []
    },
    {
      "cell_type": "code",
      "source": [
        "metadata_df = pd.read_csv(METADATA_PATH)\n",
        "credits_df = pd.read_csv(CREDITS_PATH)"
      ],
      "metadata": {
        "colab": {
          "base_uri": "https://localhost:8080/"
        },
        "id": "yiok74J16rNo",
        "outputId": "c9ee7bab-6c80-4b25-cd2c-144f00bbc6fb"
      },
      "execution_count": 4,
      "outputs": [
        {
          "output_type": "stream",
          "name": "stderr",
          "text": [
            "/usr/local/lib/python3.7/dist-packages/IPython/core/interactiveshell.py:3326: DtypeWarning: Columns (10) have mixed types.Specify dtype option on import or set low_memory=False.\n",
            "  exec(code_obj, self.user_global_ns, self.user_ns)\n"
          ]
        }
      ]
    },
    {
      "cell_type": "code",
      "source": [
        "#Removing irrelevant data features\n",
        "metadata_df = metadata_df.drop(['homepage','imdb_id', 'original_title', 'tagline', 'video', 'title', 'spoken_languages','production_countries','poster_path','production_companies'], axis=1)"
      ],
      "metadata": {
        "id": "00O5LvS96_4z"
      },
      "execution_count": 5,
      "outputs": []
    },
    {
      "cell_type": "code",
      "source": [
        "#Keeping only true false values\n",
        "metadata_df = metadata_df.loc[metadata_df.adult.isin(['True','False']), :]"
      ],
      "metadata": {
        "id": "KD9GnCgI7ckH"
      },
      "execution_count": 6,
      "outputs": []
    },
    {
      "cell_type": "code",
      "source": [
        "##Merging the credits csv on the metadata df\n",
        "metadata_df['id'] = metadata_df['id'].astype('int')\n",
        "credits_df['id'] = credits_df['id'].astype('int')\n",
        "metadata_df = metadata_df.merge(credits_df, on= 'id')"
      ],
      "metadata": {
        "id": "d4EtlpYJ7xDL"
      },
      "execution_count": 7,
      "outputs": []
    },
    {
      "cell_type": "code",
      "source": [
        "#Converting the cast to readable code\n",
        "metadata_df['crew'] = metadata_df['crew'].apply(literal_eval)\n",
        "metadata_df['cast'] = metadata_df['cast'].apply(literal_eval)\n",
        "metadata_df['genres'] = metadata_df['genres'].apply(literal_eval)"
      ],
      "metadata": {
        "id": "nuh9Q9NG8Tju"
      },
      "execution_count": 8,
      "outputs": []
    },
    {
      "cell_type": "code",
      "source": [
        "#Extracting the director,cast, genres from the credit.csv \n",
        "metadata_df['director'] = metadata_df['crew'].apply(get_director)\n",
        "metadata_df['cast'] = metadata_df['cast'].apply(lambda x: [i['name'] for i in x] if isinstance(x, list) else [])\n",
        "metadata_df['cast'] = metadata_df['cast'].apply(lambda x: x[:5] if len(x) >=5 else x)\n",
        "metadata_df['genres'] = metadata_df['genres'].apply(lambda x: [i['name'] for i in x] if isinstance(x, list) else [])"
      ],
      "metadata": {
        "id": "UHKFvKM38Tmk"
      },
      "execution_count": 9,
      "outputs": []
    },
    {
      "cell_type": "code",
      "source": [
        "#Filling empty budget cells with avg value\n",
        "metadata_df['budget'] = metadata_df['budget'].astype('int')\n",
        "mean_budget = metadata_df['budget'].mean()\n",
        "metadata_df['budget'] = metadata_df['budget'].replace( 0, mean_budget)"
      ],
      "metadata": {
        "id": "txkQTApA8TpB"
      },
      "execution_count": 10,
      "outputs": []
    },
    {
      "cell_type": "code",
      "source": [
        "#Filling empty revenue cells with avg value\n",
        "metadata_df['revenue'] = metadata_df['revenue'].replace( np.NaN, 0)\n",
        "metadata_df['revenue'] = metadata_df['revenue'].astype('int')\n",
        "mean_revenue = metadata_df['revenue'].mean()\n",
        "metadata_df['revenue'] = metadata_df['revenue'].replace( 0, mean_revenue)"
      ],
      "metadata": {
        "id": "vy_v8f7v--e1"
      },
      "execution_count": 11,
      "outputs": []
    },
    {
      "cell_type": "code",
      "source": [
        "#Adding 0 to all empty cells\n",
        "metadata_df['belongs_to_collection'] = metadata_df['belongs_to_collection'].replace(np.NaN, \"{'id':0}\")\n",
        "metadata_df['belongs_to_collection'] = metadata_df['belongs_to_collection'].apply(literal_eval)\n",
        "metadata_df['belongs_to_collection'] = metadata_df['belongs_to_collection'].apply(lambda x: x['id'] if isinstance(x, dict) else [])"
      ],
      "metadata": {
        "id": "4uWLXpuG_a3S"
      },
      "execution_count": 12,
      "outputs": []
    },
    {
      "cell_type": "code",
      "source": [
        "#Setting the value to random numbers\n",
        "collection_set = set(metadata_df['belongs_to_collection'].unique().tolist())\n",
        "metadata_df['belongs_to_collection'].astype('int')\n",
        "iter_list = iter(list(set(range(0, 480160))-collection_set))\n",
        "metadata_df['belongs_to_collection'] = metadata_df['belongs_to_collection'].apply(lambda x: next(iter_list) if x == 0 else x)"
      ],
      "metadata": {
        "id": "vxqkmFCcAQHx"
      },
      "execution_count": 13,
      "outputs": []
    },
    {
      "cell_type": "code",
      "source": [
        "#Filtering to only Released movies\n",
        "metadata_df = metadata_df[metadata_df.status == 'Released']"
      ],
      "metadata": {
        "id": "35bxG7Z41NAe"
      },
      "execution_count": 14,
      "outputs": []
    },
    {
      "cell_type": "code",
      "source": [
        "#Filtering to only english movies\n",
        "metadata_df = metadata_df[metadata_df.original_language == 'en']"
      ],
      "metadata": {
        "id": "e_yv1Vrj3gmb"
      },
      "execution_count": 15,
      "outputs": []
    },
    {
      "cell_type": "code",
      "source": [
        "#Dropping the rows with null values\n",
        "metadata_df = metadata_df.dropna(subset=['overview','release_date', 'runtime','director']) # dropped 1 example from runtime, 1 from overview, 11 from language, 87 from date"
      ],
      "metadata": {
        "id": "tSAOViBfxIkp"
      },
      "execution_count": 16,
      "outputs": []
    },
    {
      "cell_type": "code",
      "source": [
        "#Converting release date to year\n",
        "metadata_df['Year']= pd.to_datetime(metadata_df['release_date'], format = '%Y-%m-%d').dt.year\n",
        "metadata_df['Year'] = metadata_df['Year'].astype('int')"
      ],
      "metadata": {
        "id": "RytlW2JbwHOY"
      },
      "execution_count": 17,
      "outputs": []
    },
    {
      "cell_type": "code",
      "source": [
        "#Removing crew and status column after extracting the parameters needed\n",
        "metadata_df = metadata_df.drop(['crew','status','original_language','release_date'], axis = 1)"
      ],
      "metadata": {
        "id": "mT35yqEQ4XrT"
      },
      "execution_count": 18,
      "outputs": []
    },
    {
      "cell_type": "code",
      "source": [
        "#Creating a weighted rating feature\n",
        "C = metadata_df['vote_average'].mean()\n",
        "m = 10\n",
        "def weighted_rating(x):\n",
        "    v = x['vote_count']\n",
        "    R = x['vote_average']\n",
        "    return (v/(v+m) * R) + (m/(m+v) * C)\n",
        "metadata_df['wr'] = metadata_df.apply(weighted_rating, axis=1)"
      ],
      "metadata": {
        "id": "C6BfHz_YAddA"
      },
      "execution_count": 42,
      "outputs": []
    },
    {
      "cell_type": "code",
      "source": [
        "metadata_df = metadata_df.drop(['vote_average','vote_count'], axis = 1)"
      ],
      "metadata": {
        "id": "n-sLnIqlD7u6"
      },
      "execution_count": 44,
      "outputs": []
    },
    {
      "cell_type": "markdown",
      "source": [
        "Text Preprocessing"
      ],
      "metadata": {
        "id": "EieVnECR6mDU"
      }
    },
    {
      "cell_type": "code",
      "source": [
        "#Converting true/false to 1/0\n",
        "metadata_df['adult'] = metadata_df['adult'].apply(lambda x : 0 if x==\"False\" else 1)"
      ],
      "metadata": {
        "id": "Gf0K8iNV6lMh"
      },
      "execution_count": 19,
      "outputs": []
    },
    {
      "cell_type": "code",
      "source": [
        "#Converting all text to lowercase\n",
        "metadata_df['cast'] = metadata_df['cast'].apply(lambda x: [str.lower(i.replace(\" \", \"\")) for i in x])\n",
        "metadata_df['director'] = metadata_df['director'].apply(lambda x: [str.lower(x.replace(\" \", \"\"))])\n",
        "metadata_df['genres'] = metadata_df['genres'].apply(lambda x: [str.lower(i.replace(\" \", \"\")) for i in x])\n",
        "metadata_df['overview']= metadata_df['overview'].apply(lambda x: x.lower())"
      ],
      "metadata": {
        "id": "nkyEkL-17vN7"
      },
      "execution_count": 20,
      "outputs": []
    },
    {
      "cell_type": "code",
      "source": [
        "#Removing punctuations and creating tokens for overview column\n",
        "metadata_df['overview']= metadata_df['overview'].apply(lambda x:remove_punctuation(x))\n",
        "metadata_df['overview']= metadata_df['overview'].apply(lambda x: list(x.split(\" \")))"
      ],
      "metadata": {
        "id": "xYzhXwH47vXB"
      },
      "execution_count": 22,
      "outputs": []
    },
    {
      "cell_type": "code",
      "source": [
        "#Downloading stopwords and lemmetizers\n",
        "nltk.download('stopwords')\n",
        "nltk.download('wordnet')\n",
        "nltk.download('omw-1.4')"
      ],
      "metadata": {
        "colab": {
          "base_uri": "https://localhost:8080/"
        },
        "id": "-d6D8q077vaX",
        "outputId": "f47032eb-7bad-4c2f-a4ef-6c5700e6011f"
      },
      "execution_count": 25,
      "outputs": [
        {
          "output_type": "stream",
          "name": "stderr",
          "text": [
            "[nltk_data] Downloading package stopwords to /root/nltk_data...\n",
            "[nltk_data]   Unzipping corpora/stopwords.zip.\n",
            "[nltk_data] Downloading package wordnet to /root/nltk_data...\n",
            "[nltk_data] Downloading package omw-1.4 to /root/nltk_data...\n"
          ]
        },
        {
          "output_type": "execute_result",
          "data": {
            "text/plain": [
              "True"
            ]
          },
          "metadata": {},
          "execution_count": 25
        }
      ]
    },
    {
      "cell_type": "code",
      "source": [
        "#Removing stopwords\n",
        "stopwords = nltk.corpus.stopwords.words('english')\n",
        "metadata_df['overview']= metadata_df['overview'].apply(lambda x:remove_stopwords(x))"
      ],
      "metadata": {
        "id": "4Hj4np1N_NW-"
      },
      "execution_count": 30,
      "outputs": []
    },
    {
      "cell_type": "code",
      "source": [
        "#Applying Lemmatization\n",
        "metadata_df['overview']=metadata_df['overview'].apply(lambda x:lemmatizer(x))"
      ],
      "metadata": {
        "id": "wYgI9mlz_Nge"
      },
      "execution_count": 31,
      "outputs": []
    },
    {
      "cell_type": "code",
      "source": [
        "metadata_df.head()"
      ],
      "metadata": {
        "colab": {
          "base_uri": "https://localhost:8080/",
          "height": 545
        },
        "id": "c7Q6gLu27vdC",
        "outputId": "441cdc26-7182-4f84-aed8-c4d5c1b7976e"
      },
      "execution_count": 46,
      "outputs": [
        {
          "output_type": "execute_result",
          "data": {
            "text/plain": [
              "   adult  belongs_to_collection        budget                        genres  \\\n",
              "0      0                  10194  3.000000e+07   [animation, comedy, family]   \n",
              "1      0                      1  6.500000e+07  [adventure, fantasy, family]   \n",
              "2      0                 119050  4.223284e+06             [romance, comedy]   \n",
              "3      0                      2  1.600000e+07      [comedy, drama, romance]   \n",
              "4      0                  96871  4.223284e+06                      [comedy]   \n",
              "\n",
              "      id                                           overview popularity  \\\n",
              "0    862  [led, woody, andys, toy, live, happily, room, ...  21.946943   \n",
              "1   8844  [sibling, judy, peter, discover, enchanted, bo...  17.015539   \n",
              "2  15602  [family, wedding, reignites, ancient, feud, ne...    11.7129   \n",
              "3  31357  [cheated, mistreated, stepped, woman, holding,...   3.859495   \n",
              "4  11862  [george, bank, recovered, daughter, wedding, r...   8.387519   \n",
              "\n",
              "        revenue  runtime                                               cast  \\\n",
              "0  3.735540e+08     81.0  [tomhanks, timallen, donrickles, jimvarney, wa...   \n",
              "1  2.627972e+08    104.0  [robinwilliams, jonathanhyde, kirstendunst, br...   \n",
              "2  1.119786e+07    101.0  [waltermatthau, jacklemmon, ann-margret, sophi...   \n",
              "3  8.145216e+07    127.0  [whitneyhouston, angelabassett, lorettadevine,...   \n",
              "4  7.657891e+07    106.0  [stevemartin, dianekeaton, martinshort, kimber...   \n",
              "\n",
              "           director  Year        wr  \n",
              "0    [johnlasseter]  1995  7.696017  \n",
              "1     [joejohnston]  1995  6.894383  \n",
              "2    [howarddeutch]  1995  6.405793  \n",
              "3  [forestwhitaker]  1995  5.972520  \n",
              "4    [charlesshyer]  1995  5.691207  "
            ],
            "text/html": [
              "\n",
              "  <div id=\"df-40a2ae42-0bc5-4b54-874d-e39e588a3e1f\">\n",
              "    <div class=\"colab-df-container\">\n",
              "      <div>\n",
              "<style scoped>\n",
              "    .dataframe tbody tr th:only-of-type {\n",
              "        vertical-align: middle;\n",
              "    }\n",
              "\n",
              "    .dataframe tbody tr th {\n",
              "        vertical-align: top;\n",
              "    }\n",
              "\n",
              "    .dataframe thead th {\n",
              "        text-align: right;\n",
              "    }\n",
              "</style>\n",
              "<table border=\"1\" class=\"dataframe\">\n",
              "  <thead>\n",
              "    <tr style=\"text-align: right;\">\n",
              "      <th></th>\n",
              "      <th>adult</th>\n",
              "      <th>belongs_to_collection</th>\n",
              "      <th>budget</th>\n",
              "      <th>genres</th>\n",
              "      <th>id</th>\n",
              "      <th>overview</th>\n",
              "      <th>popularity</th>\n",
              "      <th>revenue</th>\n",
              "      <th>runtime</th>\n",
              "      <th>cast</th>\n",
              "      <th>director</th>\n",
              "      <th>Year</th>\n",
              "      <th>wr</th>\n",
              "    </tr>\n",
              "  </thead>\n",
              "  <tbody>\n",
              "    <tr>\n",
              "      <th>0</th>\n",
              "      <td>0</td>\n",
              "      <td>10194</td>\n",
              "      <td>3.000000e+07</td>\n",
              "      <td>[animation, comedy, family]</td>\n",
              "      <td>862</td>\n",
              "      <td>[led, woody, andys, toy, live, happily, room, ...</td>\n",
              "      <td>21.946943</td>\n",
              "      <td>3.735540e+08</td>\n",
              "      <td>81.0</td>\n",
              "      <td>[tomhanks, timallen, donrickles, jimvarney, wa...</td>\n",
              "      <td>[johnlasseter]</td>\n",
              "      <td>1995</td>\n",
              "      <td>7.696017</td>\n",
              "    </tr>\n",
              "    <tr>\n",
              "      <th>1</th>\n",
              "      <td>0</td>\n",
              "      <td>1</td>\n",
              "      <td>6.500000e+07</td>\n",
              "      <td>[adventure, fantasy, family]</td>\n",
              "      <td>8844</td>\n",
              "      <td>[sibling, judy, peter, discover, enchanted, bo...</td>\n",
              "      <td>17.015539</td>\n",
              "      <td>2.627972e+08</td>\n",
              "      <td>104.0</td>\n",
              "      <td>[robinwilliams, jonathanhyde, kirstendunst, br...</td>\n",
              "      <td>[joejohnston]</td>\n",
              "      <td>1995</td>\n",
              "      <td>6.894383</td>\n",
              "    </tr>\n",
              "    <tr>\n",
              "      <th>2</th>\n",
              "      <td>0</td>\n",
              "      <td>119050</td>\n",
              "      <td>4.223284e+06</td>\n",
              "      <td>[romance, comedy]</td>\n",
              "      <td>15602</td>\n",
              "      <td>[family, wedding, reignites, ancient, feud, ne...</td>\n",
              "      <td>11.7129</td>\n",
              "      <td>1.119786e+07</td>\n",
              "      <td>101.0</td>\n",
              "      <td>[waltermatthau, jacklemmon, ann-margret, sophi...</td>\n",
              "      <td>[howarddeutch]</td>\n",
              "      <td>1995</td>\n",
              "      <td>6.405793</td>\n",
              "    </tr>\n",
              "    <tr>\n",
              "      <th>3</th>\n",
              "      <td>0</td>\n",
              "      <td>2</td>\n",
              "      <td>1.600000e+07</td>\n",
              "      <td>[comedy, drama, romance]</td>\n",
              "      <td>31357</td>\n",
              "      <td>[cheated, mistreated, stepped, woman, holding,...</td>\n",
              "      <td>3.859495</td>\n",
              "      <td>8.145216e+07</td>\n",
              "      <td>127.0</td>\n",
              "      <td>[whitneyhouston, angelabassett, lorettadevine,...</td>\n",
              "      <td>[forestwhitaker]</td>\n",
              "      <td>1995</td>\n",
              "      <td>5.972520</td>\n",
              "    </tr>\n",
              "    <tr>\n",
              "      <th>4</th>\n",
              "      <td>0</td>\n",
              "      <td>96871</td>\n",
              "      <td>4.223284e+06</td>\n",
              "      <td>[comedy]</td>\n",
              "      <td>11862</td>\n",
              "      <td>[george, bank, recovered, daughter, wedding, r...</td>\n",
              "      <td>8.387519</td>\n",
              "      <td>7.657891e+07</td>\n",
              "      <td>106.0</td>\n",
              "      <td>[stevemartin, dianekeaton, martinshort, kimber...</td>\n",
              "      <td>[charlesshyer]</td>\n",
              "      <td>1995</td>\n",
              "      <td>5.691207</td>\n",
              "    </tr>\n",
              "  </tbody>\n",
              "</table>\n",
              "</div>\n",
              "      <button class=\"colab-df-convert\" onclick=\"convertToInteractive('df-40a2ae42-0bc5-4b54-874d-e39e588a3e1f')\"\n",
              "              title=\"Convert this dataframe to an interactive table.\"\n",
              "              style=\"display:none;\">\n",
              "        \n",
              "  <svg xmlns=\"http://www.w3.org/2000/svg\" height=\"24px\"viewBox=\"0 0 24 24\"\n",
              "       width=\"24px\">\n",
              "    <path d=\"M0 0h24v24H0V0z\" fill=\"none\"/>\n",
              "    <path d=\"M18.56 5.44l.94 2.06.94-2.06 2.06-.94-2.06-.94-.94-2.06-.94 2.06-2.06.94zm-11 1L8.5 8.5l.94-2.06 2.06-.94-2.06-.94L8.5 2.5l-.94 2.06-2.06.94zm10 10l.94 2.06.94-2.06 2.06-.94-2.06-.94-.94-2.06-.94 2.06-2.06.94z\"/><path d=\"M17.41 7.96l-1.37-1.37c-.4-.4-.92-.59-1.43-.59-.52 0-1.04.2-1.43.59L10.3 9.45l-7.72 7.72c-.78.78-.78 2.05 0 2.83L4 21.41c.39.39.9.59 1.41.59.51 0 1.02-.2 1.41-.59l7.78-7.78 2.81-2.81c.8-.78.8-2.07 0-2.86zM5.41 20L4 18.59l7.72-7.72 1.47 1.35L5.41 20z\"/>\n",
              "  </svg>\n",
              "      </button>\n",
              "      \n",
              "  <style>\n",
              "    .colab-df-container {\n",
              "      display:flex;\n",
              "      flex-wrap:wrap;\n",
              "      gap: 12px;\n",
              "    }\n",
              "\n",
              "    .colab-df-convert {\n",
              "      background-color: #E8F0FE;\n",
              "      border: none;\n",
              "      border-radius: 50%;\n",
              "      cursor: pointer;\n",
              "      display: none;\n",
              "      fill: #1967D2;\n",
              "      height: 32px;\n",
              "      padding: 0 0 0 0;\n",
              "      width: 32px;\n",
              "    }\n",
              "\n",
              "    .colab-df-convert:hover {\n",
              "      background-color: #E2EBFA;\n",
              "      box-shadow: 0px 1px 2px rgba(60, 64, 67, 0.3), 0px 1px 3px 1px rgba(60, 64, 67, 0.15);\n",
              "      fill: #174EA6;\n",
              "    }\n",
              "\n",
              "    [theme=dark] .colab-df-convert {\n",
              "      background-color: #3B4455;\n",
              "      fill: #D2E3FC;\n",
              "    }\n",
              "\n",
              "    [theme=dark] .colab-df-convert:hover {\n",
              "      background-color: #434B5C;\n",
              "      box-shadow: 0px 1px 3px 1px rgba(0, 0, 0, 0.15);\n",
              "      filter: drop-shadow(0px 1px 2px rgba(0, 0, 0, 0.3));\n",
              "      fill: #FFFFFF;\n",
              "    }\n",
              "  </style>\n",
              "\n",
              "      <script>\n",
              "        const buttonEl =\n",
              "          document.querySelector('#df-40a2ae42-0bc5-4b54-874d-e39e588a3e1f button.colab-df-convert');\n",
              "        buttonEl.style.display =\n",
              "          google.colab.kernel.accessAllowed ? 'block' : 'none';\n",
              "\n",
              "        async function convertToInteractive(key) {\n",
              "          const element = document.querySelector('#df-40a2ae42-0bc5-4b54-874d-e39e588a3e1f');\n",
              "          const dataTable =\n",
              "            await google.colab.kernel.invokeFunction('convertToInteractive',\n",
              "                                                     [key], {});\n",
              "          if (!dataTable) return;\n",
              "\n",
              "          const docLinkHtml = 'Like what you see? Visit the ' +\n",
              "            '<a target=\"_blank\" href=https://colab.research.google.com/notebooks/data_table.ipynb>data table notebook</a>'\n",
              "            + ' to learn more about interactive tables.';\n",
              "          element.innerHTML = '';\n",
              "          dataTable['output_type'] = 'display_data';\n",
              "          await google.colab.output.renderOutput(dataTable, element);\n",
              "          const docLink = document.createElement('div');\n",
              "          docLink.innerHTML = docLinkHtml;\n",
              "          element.appendChild(docLink);\n",
              "        }\n",
              "      </script>\n",
              "    </div>\n",
              "  </div>\n",
              "  "
            ]
          },
          "metadata": {},
          "execution_count": 46
        }
      ]
    },
    {
      "cell_type": "code",
      "source": [],
      "metadata": {
        "id": "VeF8iQva7vfy"
      },
      "execution_count": null,
      "outputs": []
    },
    {
      "cell_type": "code",
      "source": [],
      "metadata": {
        "id": "1AfgF5-u7vii"
      },
      "execution_count": null,
      "outputs": []
    },
    {
      "cell_type": "code",
      "source": [],
      "metadata": {
        "id": "HeifSCti7vk3"
      },
      "execution_count": null,
      "outputs": []
    },
    {
      "cell_type": "code",
      "source": [],
      "metadata": {
        "id": "56SnZ5jH7vnb"
      },
      "execution_count": null,
      "outputs": []
    }
  ]
}